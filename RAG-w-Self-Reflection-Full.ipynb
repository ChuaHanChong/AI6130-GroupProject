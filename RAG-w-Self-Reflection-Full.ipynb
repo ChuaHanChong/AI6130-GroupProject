{
 "cells": [
  {
   "cell_type": "code",
   "execution_count": 1,
   "id": "2453405e",
   "metadata": {},
   "outputs": [
    {
     "name": "stderr",
     "output_type": "stream",
     "text": [
      "/tmp/ipykernel_2928735/2970515385.py:15: UserWarning: \n",
      "********************************************************************************\n",
      "RAGatouille WARNING: Future Release Notice\n",
      "--------------------------------------------\n",
      "RAGatouille version 0.0.10 will be migrating to a PyLate backend \n",
      "instead of the current Stanford ColBERT backend.\n",
      "PyLate is a fully mature, feature-equivalent backend, that greatly facilitates compatibility.\n",
      "However, please pin version <0.0.10 if you require the Stanford ColBERT backend.\n",
      "********************************************************************************\n",
      "  from ragatouille import RAGPretrainedModel\n",
      "/data/hanchong/miniconda3/envs/AI6130/lib/python3.12/site-packages/pydantic/_internal/_generate_schema.py:2249: UnsupportedFieldAttributeWarning: The 'validate_default' attribute with value True was provided to the `Field()` function, which has no effect in the context it was used. 'validate_default' is field-specific metadata, and can only be attached to a model field using `Annotated` metadata or by assignment. This may have happened because an `Annotated` type alias using the `type` statement was used, or if the `Field()` function was attached to a single member of a union type.\n",
      "  warnings.warn(\n"
     ]
    }
   ],
   "source": [
    "from dotenv import load_dotenv\n",
    "load_dotenv(\".env\")\n",
    "\n",
    "from typing import List, Tuple\n",
    "\n",
    "import torch\n",
    "from datasets import Dataset, load_dataset\n",
    "from langchain.vectorstores import FAISS\n",
    "from langchain_community.vectorstores.utils import DistanceStrategy\n",
    "from langchain_google_genai import ChatGoogleGenerativeAI\n",
    "from langchain_huggingface import HuggingFaceEmbeddings\n",
    "from ragas import evaluate\n",
    "from ragas.llms import LangchainLLMWrapper\n",
    "from ragas.metrics import ContextRelevance, FactualCorrectness, Faithfulness\n",
    "from ragatouille import RAGPretrainedModel\n",
    "from tqdm import tqdm\n",
    "from transformers import (\n",
    "    AutoModelForCausalLM,\n",
    "    AutoTokenizer,\n",
    "    BitsAndBytesConfig,\n",
    "    pipeline,\n",
    ")\n",
    "\n",
    "import sys\n",
    "sys.path.append(\"self_reflection\")\n",
    "\n",
    "from CTRLEval.ctrleval import CTRLEval\n",
    "from evaluate.loop_eval_utils import evaluate_knowledge, evaluate_response\n",
    "from evaluate.sent_similarity import Sent_Similar"
   ]
  },
  {
   "cell_type": "code",
   "execution_count": 2,
   "id": "f3121b3f",
   "metadata": {},
   "outputs": [
    {
     "name": "stderr",
     "output_type": "stream",
     "text": [
      "Some weights of PegasusForConditionalGeneration were not initialized from the model checkpoint at google/pegasus-large and are newly initialized: ['model.decoder.embed_positions.weight', 'model.encoder.embed_positions.weight']\n",
      "You should probably TRAIN this model on a down-stream task to be able to use it for predictions and inference.\n"
     ]
    },
    {
     "data": {
      "application/vnd.jupyter.widget-view+json": {
       "model_id": "901aa36e9ab048bbb478c0b6abd598dc",
       "version_major": 2,
       "version_minor": 0
      },
      "text/plain": [
       "Loading checkpoint shards:   0%|          | 0/3 [00:00<?, ?it/s]"
      ]
     },
     "metadata": {},
     "output_type": "display_data"
    },
    {
     "name": "stderr",
     "output_type": "stream",
     "text": [
      "Device set to use cuda:0\n",
      "/data/hanchong/miniconda3/envs/AI6130/lib/python3.12/site-packages/colbert/utils/amp.py:12: FutureWarning: `torch.cuda.amp.GradScaler(args...)` is deprecated. Please use `torch.amp.GradScaler('cuda', args...)` instead.\n",
      "  self.scaler = torch.cuda.amp.GradScaler()\n"
     ]
    }
   ],
   "source": [
    "ctrleval_scorer = CTRLEval(\n",
    "    iwf_dir=\"self_reflection/CTRLEval/iwf_full.txt\",\n",
    "    prompt_dir=\"self_reflection/CTRLEval/prompt/prompt_topic.txt\",\n",
    "    verbal_dir=\"self_reflection/CTRLEval/prompt/verbal_topic.txt\",\n",
    "    device=\"cuda\",\n",
    ")\n",
    "\n",
    "# Error: Some weights of PegasusForConditionalGeneration were not initialized from the model checkpoint at google/pegasus-xsum and are newly initialized: ['model.decoder.embed_positions.weight', 'model.encoder.embed_positions.weight']\n",
    "# Ignore because Pegasus uses static, sinusoidal position embeddings (rather than learned embeddings) for both encoder and decoder.\n",
    "\n",
    "entailment_scorer = Sent_Similar()\n",
    "\n",
    "MODEL_NAME = \"Qwen/Qwen3-4B-Instruct-2507\"\n",
    "bnb_config = BitsAndBytesConfig(\n",
    "    load_in_4bit=True,\n",
    "    bnb_4bit_use_double_quant=True,\n",
    "    bnb_4bit_quant_type=\"nf4\",\n",
    "    bnb_4bit_compute_dtype=torch.bfloat16,\n",
    ")\n",
    "model = AutoModelForCausalLM.from_pretrained(MODEL_NAME, quantization_config=bnb_config, device_map=\"auto\")\n",
    "tokenizer = AutoTokenizer.from_pretrained(MODEL_NAME)\n",
    "llm = pipeline(\n",
    "    model=model,\n",
    "    tokenizer=tokenizer,\n",
    "    task=\"text-generation\",\n",
    "    do_sample=True,\n",
    "    temperature=0.2,\n",
    "    return_full_text=False,\n",
    "    max_new_tokens=500,\n",
    ")\n",
    "\n",
    "embedding_model = HuggingFaceEmbeddings(\n",
    "    model_name=\"Qwen/Qwen3-Embedding-0.6B\",\n",
    "    model_kwargs={\"device\": \"cuda\"},\n",
    "    encode_kwargs={\"normalize_embeddings\": True},\n",
    ")\n",
    "\n",
    "reranker = RAGPretrainedModel.from_pretrained(\"colbert-ir/colbertv2.0\")"
   ]
  },
  {
   "cell_type": "code",
   "execution_count": 3,
   "id": "5b320f46",
   "metadata": {},
   "outputs": [],
   "source": [
    "ds = load_dataset(\"rungalileo/ragbench\", \"hotpotqa\", split=\"test\")\n",
    "\n",
    "RAW_KNOWLEDGE_BASE = []\n",
    "for d in ds:\n",
    "    for doc in d[\"documents\"]:\n",
    "        RAW_KNOWLEDGE_BASE.append(doc)\n",
    "\n",
    "KNOWLEDGE_VECTOR_DATABASE = FAISS.from_texts(list(set(RAW_KNOWLEDGE_BASE)), embedding_model, distance_strategy=DistanceStrategy.COSINE)"
   ]
  },
  {
   "cell_type": "code",
   "execution_count": 4,
   "id": "74ecc83b",
   "metadata": {},
   "outputs": [],
   "source": [
    "class Args:\n",
    "    no_number = False\n",
    "    no_aspect = False\n",
    "\n",
    "    max_loop = 1\n",
    "    max_knowledge_loop = 1\n",
    "    max_response_loop = 1\n",
    "    demo_num = 0\n",
    "\n",
    "    threshold_entailment = 0.8\n",
    "    threshold_fact = -1\n",
    "    threshold_consistency = -5\n",
    "\n",
    "    temperature = 1.0\n",
    "    top_p = 1\n",
    "    top_k = 1\n",
    "    num_beams = 1\n",
    "    max_new_tokens = 128\n",
    "    repetition_penalty = 1.0\n",
    "\n",
    "\n",
    "args = Args()\n",
    "args.max_loop = 3\n",
    "args.max_knowledge_loop = 3\n",
    "args.max_response_loop = 3\n",
    "args.demo_num = 0\n",
    "args.threshold_entailment = 0.8\n",
    "args.threshold_fact = -1.0\n",
    "args.threshold_consistency = -5\n",
    "args.max_new_tokens = 512"
   ]
  },
  {
   "cell_type": "code",
   "execution_count": 5,
   "id": "6497b381",
   "metadata": {},
   "outputs": [],
   "source": [
    "def generate_step(\n",
    "    args: Args,\n",
    "    model: AutoModelForCausalLM,\n",
    "    tokenizer: AutoTokenizer,\n",
    "    messages: List[dict[str, str]],\n",
    ") -> str:\n",
    "    formatted_chat = tokenizer.apply_chat_template(messages, tokenize=False, add_generation_prompt=True)\n",
    "    inputs = tokenizer(formatted_chat, return_tensors=\"pt\", add_special_tokens=False).to(model.device)\n",
    "    outputs = model.generate(\n",
    "        **inputs,\n",
    "        max_new_tokens=args.max_new_tokens,\n",
    "        do_sample=args.temperature > 0,\n",
    "        temperature=args.temperature,\n",
    "        top_p=args.top_p,\n",
    "        top_k=args.top_k,\n",
    "        num_beams=args.num_beams,\n",
    "        repetition_penalty=args.repetition_penalty,\n",
    "        pad_token_id=tokenizer.eos_token_id,\n",
    "        eos_token_id=tokenizer.eos_token_id,\n",
    "    )\n",
    "    return tokenizer.decode(outputs[0][inputs[\"input_ids\"].size(1) :], skip_special_tokens=True)\n",
    "\n",
    "\n",
    "def knowledge_loop(\n",
    "    args: Args,\n",
    "    question: str,\n",
    "    retrieved_docs: List[str],\n",
    ") -> Tuple[str, List[Tuple[int, str, float]]]:\n",
    "    print(\"knowledge_loop\")\n",
    "\n",
    "    THRESHOLD_FACTUAL = args.threshold_fact\n",
    "    MAX_KNOWLEDGE_LOOP = args.max_knowledge_loop\n",
    "\n",
    "    candidates = []\n",
    "    history = []\n",
    "\n",
    "    retrieved_context = \"\\n\".join([\"- \" + doc for doc in retrieved_docs])\n",
    "    messages = [\n",
    "        {\n",
    "            \"role\": \"system\",\n",
    "            \"content\": \"\"\"You are an AI language model designed to provide accurate, relevant, and comprehensive background knowledge based on the given question and retrieved context, with the ability to incorporate additional context when necessary. \\\n",
    "Sometimes, the retrieved context may not be sufficient to answer the question accurately. In such cases, you should use your general knowledge to supplement the information from the retrieved context.\"\"\",\n",
    "        },\n",
    "        {\n",
    "            \"role\": \"user\",\n",
    "            \"content\": f'Provide background knowledge in one paragraph (approximately 400 words) to answer the question: \"{question}\", based on the following retrieved context:\\n{retrieved_context}',\n",
    "        },\n",
    "    ]\n",
    "    knowledge = generate_step(args, model, tokenizer, messages)\n",
    "\n",
    "    loop_i = 0\n",
    "    if MAX_KNOWLEDGE_LOOP > 1:\n",
    "        factuality_score = evaluate_knowledge(model, args.demo_num, question, knowledge, tokenizer)\n",
    "        candidates.append([factuality_score, knowledge])\n",
    "        history.append([loop_i, knowledge, factuality_score])\n",
    "\n",
    "    loop_i += 1\n",
    "    while (loop_i < MAX_KNOWLEDGE_LOOP) and factuality_score < THRESHOLD_FACTUAL:\n",
    "        if args.no_aspect:\n",
    "            instruction = f\"Please refine the knowledge.\"\n",
    "        elif args.no_number:\n",
    "            instruction = f\"The knowledge is not strongly supported by empirical evidence. Please refine the knowledge to improve its factuality.\"\n",
    "        else:\n",
    "            instruction = f\"The factuality score for the knowledge is {factuality_score} less than {THRESHOLD_FACTUAL}, which means the knowledge is not strongly supported by empirical evidence. Please refine the knowledge to improve its factuality.\"\n",
    "\n",
    "        messages = [\n",
    "            {\n",
    "                \"role\": \"system\",\n",
    "                \"content\": \"You are an AI language model designed to provide accurate, relevant, and comprehensive background knowledge based on the given question and retrieved context, with the ability to incorporate additional context when necessary.\",\n",
    "            },\n",
    "            {\n",
    "                \"role\": \"user\",\n",
    "                \"content\": f'The provided background knowledge for the question: \"{question}\" is \"{knowledge}\", based on the following retrieved context:\\n{retrieved_context}\".\\n\\n{instruction}\\nThe refined knowledge should be in one paragraph (approximately 400 words).',\n",
    "            },\n",
    "        ]\n",
    "        knowledge = generate_step(args, model, tokenizer, messages)\n",
    "\n",
    "        factuality_score = evaluate_knowledge(model, args.demo_num, question, knowledge, tokenizer)\n",
    "\n",
    "        candidates.append([factuality_score, knowledge])\n",
    "        history.append([loop_i, knowledge, factuality_score])\n",
    "        loop_i += 1\n",
    "\n",
    "    if (MAX_KNOWLEDGE_LOOP > 1) and factuality_score < THRESHOLD_FACTUAL:\n",
    "        candidates.sort()\n",
    "        return candidates[-1][-1], history\n",
    "    else:\n",
    "        return knowledge, history\n",
    "\n",
    "\n",
    "def response_loop(\n",
    "    args: Args,\n",
    "    question: str,\n",
    "    final_knowledge: str,\n",
    ") -> Tuple[str, List[Tuple[int, str, float, float]], float]:\n",
    "    print(\"response_loop\")\n",
    "\n",
    "    THRESHOLD_CONS = args.threshold_consistency\n",
    "    MAX_RESPONSE_LOOP = args.max_response_loop\n",
    "\n",
    "    candidates = []\n",
    "    entailment_score_question_list = []\n",
    "    history = []\n",
    "\n",
    "    messages = [\n",
    "        {\n",
    "            \"role\": \"system\",\n",
    "            \"content\": \"You are an AI language model designed to provide accurate, relevant, and comprehensive answers to questions based on the given background knowledge.\",\n",
    "        },\n",
    "        {\n",
    "            \"role\": \"user\",\n",
    "            \"content\": f'Refer to the background knowledge: \"{final_knowledge}\" and answer the question: \"{question}\" with one paragraph.',\n",
    "        },\n",
    "    ]\n",
    "    response = generate_step(args, model, tokenizer, messages)\n",
    "\n",
    "    loop_i = 0\n",
    "    if MAX_RESPONSE_LOOP > 1:\n",
    "        entailment_score_question, cons_score_knowledge = evaluate_response(entailment_scorer, ctrleval_scorer, question, response, final_knowledge)\n",
    "        candidates.append([(entailment_score_question + cons_score_knowledge) / 2, response])\n",
    "        entailment_score_question_list.append(entailment_score_question)\n",
    "        history.append([loop_i, response, entailment_score_question, cons_score_knowledge])\n",
    "\n",
    "    loop_i += 1\n",
    "    while loop_i < MAX_RESPONSE_LOOP and cons_score_knowledge < THRESHOLD_CONS:\n",
    "        if args.no_aspect:\n",
    "            instruction = f\"Please refine the response.\"\n",
    "        elif args.no_number:\n",
    "            instruction = f\"The alignment and consistency between response and knowledge are low. Please refine the response to improve its consistency.\"\n",
    "        else:\n",
    "            instruction = f\"The consistency score for the response is {cons_score_knowledge} less than {THRESHOLD_CONS}, which means the alignment and consistency between response and knowledge are low. Please refine the response to improve its consistency.\"\n",
    "\n",
    "        messages = [\n",
    "            {\n",
    "                \"role\": \"system\",\n",
    "                \"content\": \"You are an AI language model designed to provide accurate, relevant, and comprehensive answers to questions based on the given background knowledge.\",\n",
    "            },\n",
    "            {\n",
    "                \"role\": \"user\", \n",
    "                \"content\": f'The generated response for the question: \"{question}\" is \"{response}\" based on the background knowledge: \"{final_knowledge}\".\\n\\n{instruction}',\n",
    "            },\n",
    "        ]\n",
    "        response = generate_step(args, model, tokenizer, messages)\n",
    "\n",
    "        entailment_score_question, cons_score_knowledge = evaluate_response(entailment_scorer, ctrleval_scorer, question, response, final_knowledge)\n",
    "        candidates.append([(entailment_score_question + cons_score_knowledge) / 2, response])\n",
    "        entailment_score_question_list.append(entailment_score_question)\n",
    "        history.append([loop_i, response, entailment_score_question, cons_score_knowledge])\n",
    "\n",
    "        loop_i += 1\n",
    "\n",
    "    if MAX_RESPONSE_LOOP > 1 and cons_score_knowledge < THRESHOLD_CONS:\n",
    "        merge = zip(candidates, entailment_score_question_list)\n",
    "        merge = sorted(merge)\n",
    "        candidates, entailment_score_question_list = zip(*merge)\n",
    "        return candidates[-1][-1], history, entailment_score_question_list[-1]\n",
    "    else:\n",
    "        return response, history, entailment_score_question\n",
    "\n",
    "\n",
    "def reflection_loop(\n",
    "    args: Args,\n",
    "    question: str,\n",
    "    retrieved_docs: List[str],\n",
    ") -> Tuple[str, str, List[Tuple[int, str, float]], List[Tuple[int, str, float, float]]]:\n",
    "    all_history_knowledge, all_history_response = [], []\n",
    "\n",
    "    THRESHOLD_ENTAIL = args.threshold_entailment\n",
    "    MAX_LOOP = args.max_loop\n",
    "\n",
    "    candidates = []\n",
    "    main_loop_i = 0\n",
    "    print(f\"main_loop {main_loop_i}\")\n",
    "\n",
    "    final_knowledge, history_knowledge = knowledge_loop(args, question, retrieved_docs)\n",
    "    all_history_knowledge += history_knowledge\n",
    "\n",
    "    final_response, history_response, entailment_score_question = response_loop(args, question, final_knowledge)\n",
    "    all_history_response += history_response\n",
    "    candidates.append([entailment_score_question, final_knowledge, final_response])\n",
    "\n",
    "    main_loop_i += 1\n",
    "    while main_loop_i < MAX_LOOP and entailment_score_question < THRESHOLD_ENTAIL:\n",
    "        print(f\"main_loop {main_loop_i}\")\n",
    "        final_knowledge, history_knowledge = knowledge_loop(args, question, retrieved_docs)\n",
    "        all_history_knowledge += history_knowledge\n",
    "\n",
    "        final_response, history_response, entailment_score_question = response_loop(args, question, final_knowledge)\n",
    "        all_history_response += history_response\n",
    "        candidates.append([entailment_score_question, final_knowledge, final_response])\n",
    "        main_loop_i += 1\n",
    "\n",
    "    if (MAX_LOOP > 1) and entailment_score_question < THRESHOLD_ENTAIL:\n",
    "        candidates.sort()\n",
    "        final_knowledge, final_response = candidates[-1][1:]\n",
    "\n",
    "    return final_knowledge, final_response, all_history_knowledge, all_history_response"
   ]
  },
  {
   "cell_type": "code",
   "execution_count": 6,
   "id": "407e37ac",
   "metadata": {},
   "outputs": [],
   "source": [
    "def answer_with_rag_reflection(\n",
    "    args: Args,\n",
    "    question: str,\n",
    "    knowledge_index: FAISS,\n",
    "    use_reranker: bool = True,\n",
    "    num_retrieved_docs: int = 30,\n",
    "    num_docs_final: int = 7,\n",
    ") -> Tuple[str, List[str]]:\n",
    "    \"\"\"RAG with self-reflection\"\"\"\n",
    "\n",
    "    # Step 1: Retrieve documents\n",
    "    print(\"=> Retrieving documents...\")\n",
    "    relevant_docs = knowledge_index.similarity_search(query=question, k=num_retrieved_docs)\n",
    "    relevant_docs = [doc.page_content for doc in relevant_docs]\n",
    "\n",
    "    # Step 2: Rerank if available\n",
    "    if use_reranker:\n",
    "        print(\"=> Reranking documents...\")\n",
    "        relevant_docs = reranker.rerank(question, relevant_docs, k=num_docs_final)\n",
    "        relevant_docs = [doc[\"content\"] for doc in relevant_docs]\n",
    "\n",
    "    relevant_docs = relevant_docs[:num_docs_final]\n",
    "\n",
    "    # Step 3: Generate response with self-reflection\n",
    "    print(\"=> Generating response with self-reflection...\")\n",
    "    _, final_response, _, _ = reflection_loop(args, question, relevant_docs)\n",
    "\n",
    "    return final_response, relevant_docs"
   ]
  },
  {
   "cell_type": "code",
   "execution_count": 7,
   "id": "a4813268",
   "metadata": {},
   "outputs": [],
   "source": [
    "#response, relevant_docs = answer_with_rag_reflection(args, ds[0]['question'], KNOWLEDGE_VECTOR_DATABASE, use_reranker=True)"
   ]
  },
  {
   "cell_type": "code",
   "execution_count": 8,
   "id": "5360ae60",
   "metadata": {},
   "outputs": [
    {
     "name": "stderr",
     "output_type": "stream",
     "text": [
      "  0%|          | 0/2 [00:00<?, ?it/s]/data/hanchong/miniconda3/envs/AI6130/lib/python3.12/site-packages/colbert/utils/amp.py:15: FutureWarning: `torch.cuda.amp.autocast(args...)` is deprecated. Please use `torch.amp.autocast('cuda', args...)` instead.\n",
      "  return torch.cuda.amp.autocast() if self.activated else NullContextManager()\n"
     ]
    },
    {
     "name": "stdout",
     "output_type": "stream",
     "text": [
      "=> Retrieving documents...\n",
      "=> Reranking documents...\n"
     ]
    },
    {
     "name": "stderr",
     "output_type": "stream",
     "text": [
      "100%|██████████| 1/1 [00:00<00:00, 18.70it/s]\n"
     ]
    },
    {
     "name": "stdout",
     "output_type": "stream",
     "text": [
      "=> Generating response with self-reflection...\n",
      "main_loop 0\n",
      "knowledge_loop\n",
      "process:0/1\n",
      "text:  Based on Question, please generate the factual knowledge. To do this, please consider these factors: Verifiability, Objectivity, and Reliability of Source. Note that this evaluation should be based on the best available medical knowledge.\n",
      "\n",
      "Question: Which university did one of the key figures in the American documentary film, released in 2015, directed by Malcolm Ingram, pay for, before being drafted 18th overall pick for the New Jersey Nets?\n",
      "Knowledge: The question refers to a key figure in the 2015 documentary *Out to Win*, directed by Malcolm Ingram, who attended a university before being drafted 18th overall by the New Jersey Nets. The documentary highlights LGBT participation in professional sports, featuring individuals such as Jason Collins. Among the key figures, Jason Paul Collins is directly relevant: he played college basketball at Stanford University, where he was an All-American during the 2000–01 season. After his college career, Collins was selected 18th overall in the 2001 NBA Draft by the Houston Rockets, and later played for the New Jersey Nets (a team that relocated from New York in 1977). The film *Out to Win* chronicles the broader history of LGBT athletes in professional sports, and Collins stands out as a prominent example of a gay athlete who broke barriers in the NBA. The retrieved context confirms that Collins played for the New Jersey Nets, aligning with the specific detail in the question. While the context does not explicitly mention the university paid for by the key figure, it clearly identifies Stanford University as the institution where Collins played college basketball. Therefore, the key figure—Jason Collins—attended Stanford University before being drafted. This information is consistent with the timeline and details provided in the context, making Stanford the correct answer to the background question.\n",
      "tgt:  The question refers to a key figure in the 2015 documentary *Out to Win*, directed by Malcolm Ingram, who attended a university before being drafted 18th overall by the New Jersey Nets. The documentary highlights LGBT participation in professional sports, featuring individuals such as Jason Collins. Among the key figures, Jason Paul Collins is directly relevant: he played college basketball at Stanford University, where he was an All-American during the 2000–01 season. After his college career, Collins was selected 18th overall in the 2001 NBA Draft by the Houston Rockets, and later played for the New Jersey Nets (a team that relocated from New York in 1977). The film *Out to Win* chronicles the broader history of LGBT athletes in professional sports, and Collins stands out as a prominent example of a gay athlete who broke barriers in the NBA. The retrieved context confirms that Collins played for the New Jersey Nets, aligning with the specific detail in the question. While the context does not explicitly mention the university paid for by the key figure, it clearly identifies Stanford University as the institution where Collins played college basketball. Therefore, the key figure—Jason Collins—attended Stanford University before being drafted. This information is consistent with the timeline and details provided in the context, making Stanford the correct answer to the background question.\n",
      "score:  -1.5182794332504272\n",
      "process:0/1\n",
      "text:  Based on Question, please generate the factual knowledge. To do this, please consider these factors: Verifiability, Objectivity, and Reliability of Source. Note that this evaluation should be based on the best available medical knowledge.\n",
      "\n",
      "Question: Which university did one of the key figures in the American documentary film, released in 2015, directed by Malcolm Ingram, pay for, before being drafted 18th overall pick for the New Jersey Nets?\n",
      "Knowledge: The question refers to a key figure in the 2015 documentary *Out to Win*, directed by Malcolm Ingram, who attended university before being drafted 18th overall by the New Jersey Nets. The film highlights LGBT participation in professional sports, with Jason Paul Collins being a central figure. Collins played college basketball at Stanford University, where he was an All-American during the 2000–01 season. After his collegiate career, he was selected 18th overall in the 2001 NBA Draft by the Houston Rockets. He later played for the New Jersey Nets, which was the relocated version of the original New York Nets, following their move to New Jersey in 1977. The documentary *Out to Win* features Collins as a prominent example of a gay athlete who broke barriers in the NBA, contributing to broader discussions about LGBTQ+ visibility in professional sports. While the context does not explicitly state that the university was \"paid for\" by the key figure, it clearly identifies Stanford University as the institution where Collins played college basketball. There is no evidence in the provided background that Collins or any other key figure in the film paid for their university education; such a claim is speculative and not supported by the facts. The information about Collins’ college career, draft selection, and professional career is consistent with publicly available records and is well-documented in sports and LGBTQ+ history sources. The timeline aligns: Collins played at Stanford, was drafted in 2001, and played for the New Jersey Nets during the 2000s. The claim that the key figure \"paid for\" the university is factually unsupported and misrepresents the context. The correct interpretation is that Jason Collins attended Stanford University as a student-athlete, not that he paid for it. The background knowledge is accurate in identifying Stanford University as the college attended by Jason Collins and in confirming his draft status and professional career. However, the phrase \"paid for\" introduces an unsupported and potentially misleading interpretation. Therefore, the refined and factually accurate version of the knowledge states that Jason Paul Collins played college basketball at Stanford University before being drafted 18th overall in the 2001 NBA Draft by the Houston Rockets and later played for the New Jersey Nets. No evidence supports the claim that he paid for the university.\n",
      "tgt:  The question refers to a key figure in the 2015 documentary *Out to Win*, directed by Malcolm Ingram, who attended university before being drafted 18th overall by the New Jersey Nets. The film highlights LGBT participation in professional sports, with Jason Paul Collins being a central figure. Collins played college basketball at Stanford University, where he was an All-American during the 2000–01 season. After his collegiate career, he was selected 18th overall in the 2001 NBA Draft by the Houston Rockets. He later played for the New Jersey Nets, which was the relocated version of the original New York Nets, following their move to New Jersey in 1977. The documentary *Out to Win* features Collins as a prominent example of a gay athlete who broke barriers in the NBA, contributing to broader discussions about LGBTQ+ visibility in professional sports. While the context does not explicitly state that the university was \"paid for\" by the key figure, it clearly identifies Stanford University as the institution where Collins played college basketball. There is no evidence in the provided background that Collins or any other key figure in the film paid for their university education; such a claim is speculative and not supported by the facts. The information about Collins’ college career, draft selection, and professional career is consistent with publicly available records and is well-documented in sports and LGBTQ+ history sources. The timeline aligns: Collins played at Stanford, was drafted in 2001, and played for the New Jersey Nets during the 2000s. The claim that the key figure \"paid for\" the university is factually unsupported and misrepresents the context. The correct interpretation is that Jason Collins attended Stanford University as a student-athlete, not that he paid for it. The background knowledge is accurate in identifying Stanford University as the college attended by Jason Collins and in confirming his draft status and professional career. However, the phrase \"paid for\" introduces an unsupported and potentially misleading interpretation. Therefore, the refined and factually accurate version of the knowledge states that Jason Paul Collins played college basketball at Stanford University before being drafted 18th overall in the 2001 NBA Draft by the Houston Rockets and later played for the New Jersey Nets. No evidence supports the claim that he paid for the university.\n",
      "score:  -1.1200294494628906\n",
      "process:0/1\n",
      "text:  Based on Question, please generate the factual knowledge. To do this, please consider these factors: Verifiability, Objectivity, and Reliability of Source. Note that this evaluation should be based on the best available medical knowledge.\n",
      "\n",
      "Question: Which university did one of the key figures in the American documentary film, released in 2015, directed by Malcolm Ingram, pay for, before being drafted 18th overall pick for the New Jersey Nets?\n",
      "Knowledge: The question contains a factual error and misrepresentation of the context. The documentary *Out to Win*, released in 2015 and directed by Malcolm Ingram, highlights the experiences of LGBTQ+ athletes in professional sports, with Jason Paul Collins being a central figure. Jason Paul Collins, an American former professional basketball player, played college basketball at Stanford University, where he was an All-American during the 2000–01 season. After his collegiate career, he was selected 18th overall in the 2001 NBA Draft by the Houston Rockets, not the New Jersey Nets. While he did play for the New Jersey Nets during his professional career—specifically in the 2000s, following the team’s relocation from New York to New Jersey in 1977—the draft selection and college attendance are well-documented facts. There is no evidence that Collins or any other key figure in the film \"paid for\" their university education; such a claim is speculative and unsupported by the provided context or public records. The background information correctly identifies Stanford University as the institution where Collins played college basketball and confirms his draft status and professional career trajectory. The claim that the key figure \"paid for\" the university is factually inaccurate and misrepresents the situation. As a student-athlete, Collins attended Stanford as part of his basketball career, not as a result of personal financial contributions. The documentary *Out to Win* serves as a platform to celebrate LGBTQ+ visibility in sports, and Collins is featured as a prominent example of a gay athlete who broke barriers in the NBA. His journey from Stanford to the NBA, including his time with the New Jersey Nets, reflects broader themes of inclusion and perseverance. The timeline of events—college at Stanford, draft in 2001, professional play with the Nets—is consistent with publicly available sports history. Therefore, the accurate and factually sound statement is that Jason Paul Collins played college basketball at Stanford University before being drafted 18th overall in the 2001 NBA Draft by the Houston Rockets and later played for the New Jersey Nets. No evidence supports the claim that he paid for his university education. The refined version of the knowledge is factually grounded, consistent with verified records, and avoids unsupported or misleading interpretations.\n",
      "tgt:  The question contains a factual error and misrepresentation of the context. The documentary *Out to Win*, released in 2015 and directed by Malcolm Ingram, highlights the experiences of LGBTQ+ athletes in professional sports, with Jason Paul Collins being a central figure. Jason Paul Collins, an American former professional basketball player, played college basketball at Stanford University, where he was an All-American during the 2000–01 season. After his collegiate career, he was selected 18th overall in the 2001 NBA Draft by the Houston Rockets, not the New Jersey Nets. While he did play for the New Jersey Nets during his professional career—specifically in the 2000s, following the team’s relocation from New York to New Jersey in 1977—the draft selection and college attendance are well-documented facts. There is no evidence that Collins or any other key figure in the film \"paid for\" their university education; such a claim is speculative and unsupported by the provided context or public records. The background information correctly identifies Stanford University as the institution where Collins played college basketball and confirms his draft status and professional career trajectory. The claim that the key figure \"paid for\" the university is factually inaccurate and misrepresents the situation. As a student-athlete, Collins attended Stanford as part of his basketball career, not as a result of personal financial contributions. The documentary *Out to Win* serves as a platform to celebrate LGBTQ+ visibility in sports, and Collins is featured as a prominent example of a gay athlete who broke barriers in the NBA. His journey from Stanford to the NBA, including his time with the New Jersey Nets, reflects broader themes of inclusion and perseverance. The timeline of events—college at Stanford, draft in 2001, professional play with the Nets—is consistent with publicly available sports history. Therefore, the accurate and factually sound statement is that Jason Paul Collins played college basketball at Stanford University before being drafted 18th overall in the 2001 NBA Draft by the Houston Rockets and later played for the New Jersey Nets. No evidence supports the claim that he paid for his university education. The refined version of the knowledge is factually grounded, consistent with verified records, and avoids unsupported or misleading interpretations.\n",
      "score:  -1.2465112209320068\n",
      "response_loop\n"
     ]
    },
    {
     "name": "stderr",
     "output_type": "stream",
     "text": [
      "100%|██████████| 2/2 [00:00<00:00, 10.00it/s]\n"
     ]
    },
    {
     "name": "stdout",
     "output_type": "stream",
     "text": [
      "main_loop 1\n",
      "knowledge_loop\n",
      "process:0/1\n",
      "text:  Based on Question, please generate the factual knowledge. To do this, please consider these factors: Verifiability, Objectivity, and Reliability of Source. Note that this evaluation should be based on the best available medical knowledge.\n",
      "\n",
      "Question: Which university did one of the key figures in the American documentary film, released in 2015, directed by Malcolm Ingram, pay for, before being drafted 18th overall pick for the New Jersey Nets?\n",
      "Knowledge: The question refers to a key figure in the 2015 documentary *Out to Win*, directed by Malcolm Ingram, who attended a university before being drafted 18th overall by the New Jersey Nets. The documentary highlights LGBT participation in professional sports, featuring individuals such as Jason Collins. Among the key figures, Jason Paul Collins is directly relevant: he played college basketball at Stanford University, where he was an All-American during the 2000–01 season. After his college career, Collins was selected 18th overall in the 2001 NBA Draft by the Houston Rockets, and later played for the New Jersey Nets (a team that relocated from New York in 1977). The film *Out to Win* chronicles the broader history of LGBT athletes in professional sports, and Collins stands out as a prominent example of a gay athlete who broke barriers in the NBA. The retrieved context confirms that Collins played for the New Jersey Nets, aligning with the specific detail in the question. While the context does not explicitly mention the university paid for by the key figure, it clearly identifies Stanford University as the institution where Collins played college basketball. Therefore, the key figure—Jason Collins—attended Stanford University before being drafted. This information is consistent with the timeline and details provided in the context, making Stanford the correct answer to the background question.\n",
      "tgt:  The question refers to a key figure in the 2015 documentary *Out to Win*, directed by Malcolm Ingram, who attended a university before being drafted 18th overall by the New Jersey Nets. The documentary highlights LGBT participation in professional sports, featuring individuals such as Jason Collins. Among the key figures, Jason Paul Collins is directly relevant: he played college basketball at Stanford University, where he was an All-American during the 2000–01 season. After his college career, Collins was selected 18th overall in the 2001 NBA Draft by the Houston Rockets, and later played for the New Jersey Nets (a team that relocated from New York in 1977). The film *Out to Win* chronicles the broader history of LGBT athletes in professional sports, and Collins stands out as a prominent example of a gay athlete who broke barriers in the NBA. The retrieved context confirms that Collins played for the New Jersey Nets, aligning with the specific detail in the question. While the context does not explicitly mention the university paid for by the key figure, it clearly identifies Stanford University as the institution where Collins played college basketball. Therefore, the key figure—Jason Collins—attended Stanford University before being drafted. This information is consistent with the timeline and details provided in the context, making Stanford the correct answer to the background question.\n",
      "score:  -1.5182794332504272\n",
      "process:0/1\n",
      "text:  Based on Question, please generate the factual knowledge. To do this, please consider these factors: Verifiability, Objectivity, and Reliability of Source. Note that this evaluation should be based on the best available medical knowledge.\n",
      "\n",
      "Question: Which university did one of the key figures in the American documentary film, released in 2015, directed by Malcolm Ingram, pay for, before being drafted 18th overall pick for the New Jersey Nets?\n",
      "Knowledge: The question refers to a key figure in the 2015 documentary *Out to Win*, directed by Malcolm Ingram, who attended university before being drafted 18th overall by the New Jersey Nets. The film highlights LGBT participation in professional sports, with Jason Paul Collins being a central figure. Collins played college basketball at Stanford University, where he was an All-American during the 2000–01 season. After his collegiate career, he was selected 18th overall in the 2001 NBA Draft by the Houston Rockets. He later played for the New Jersey Nets, which was the relocated version of the original New York Nets, following their move to New Jersey in 1977. The documentary *Out to Win* features Collins as a prominent example of a gay athlete who broke barriers in the NBA, contributing to broader discussions about LGBTQ+ visibility in professional sports. While the context does not explicitly state that the university was \"paid for\" by the key figure, it clearly identifies Stanford University as the institution where Collins played college basketball. There is no evidence in the provided context suggesting that Collins or any other individual in the film paid for their university education, nor is there any indication of financial arrangements or payments related to university attendance. Therefore, the claim that \"one of the key figures... paid for\" a university is not supported by the facts and appears to be a misinterpretation or misstatement. The accurate factual information is that Jason Collins played college basketball at Stanford University and was drafted by the Houston Rockets in 2001, later playing for the New Jersey Nets. The documentary *Out to Win* is a factual portrayal of LGBT athletes in professional sports, and Collins is a well-documented figure in this context. The timeline and details align with public records and verified biographical data. The claim about \"paying for\" a university is unsubstantiated and introduces unsupported assumptions. The refined knowledge correctly identifies Stanford University as the institution attended by Jason Collins, with no mention of financial arrangements or payments. This version is factually grounded, consistent with verified public records, and avoids speculative or unsupported claims.\n",
      "tgt:  The question refers to a key figure in the 2015 documentary *Out to Win*, directed by Malcolm Ingram, who attended university before being drafted 18th overall by the New Jersey Nets. The film highlights LGBT participation in professional sports, with Jason Paul Collins being a central figure. Collins played college basketball at Stanford University, where he was an All-American during the 2000–01 season. After his collegiate career, he was selected 18th overall in the 2001 NBA Draft by the Houston Rockets. He later played for the New Jersey Nets, which was the relocated version of the original New York Nets, following their move to New Jersey in 1977. The documentary *Out to Win* features Collins as a prominent example of a gay athlete who broke barriers in the NBA, contributing to broader discussions about LGBTQ+ visibility in professional sports. While the context does not explicitly state that the university was \"paid for\" by the key figure, it clearly identifies Stanford University as the institution where Collins played college basketball. There is no evidence in the provided context suggesting that Collins or any other individual in the film paid for their university education, nor is there any indication of financial arrangements or payments related to university attendance. Therefore, the claim that \"one of the key figures... paid for\" a university is not supported by the facts and appears to be a misinterpretation or misstatement. The accurate factual information is that Jason Collins played college basketball at Stanford University and was drafted by the Houston Rockets in 2001, later playing for the New Jersey Nets. The documentary *Out to Win* is a factual portrayal of LGBT athletes in professional sports, and Collins is a well-documented figure in this context. The timeline and details align with public records and verified biographical data. The claim about \"paying for\" a university is unsubstantiated and introduces unsupported assumptions. The refined knowledge correctly identifies Stanford University as the institution attended by Jason Collins, with no mention of financial arrangements or payments. This version is factually grounded, consistent with verified public records, and avoids speculative or unsupported claims.\n",
      "score:  -1.175175666809082\n",
      "process:0/1\n",
      "text:  Based on Question, please generate the factual knowledge. To do this, please consider these factors: Verifiability, Objectivity, and Reliability of Source. Note that this evaluation should be based on the best available medical knowledge.\n",
      "\n",
      "Question: Which university did one of the key figures in the American documentary film, released in 2015, directed by Malcolm Ingram, pay for, before being drafted 18th overall pick for the New Jersey Nets?\n",
      "Knowledge: The 2015 documentary *Out to Win*, directed by Malcolm Ingram, highlights the experiences of LGBTQ+ athletes in professional sports, with Jason Paul Collins being a central figure. Collins, born in 1978, played college basketball at Stanford University, where he was an All-American during the 2000–01 season. After his collegiate career, he was selected 18th overall in the 2001 NBA Draft by the Houston Rockets. He later played for the New Jersey Nets, which was the relocated version of the original New York Nets that moved to New Jersey in 1977. The film portrays Collins as a pioneering gay athlete who broke barriers in the NBA, contributing to greater visibility of LGBTQ+ individuals in professional sports. There is no evidence in the provided context—or in publicly available records—that Collins or any other key figure in the documentary paid for their university education. The claim that one of the key figures \"paid for\" a university is unsubstantiated, speculative, and not supported by factual data. Stanford University is accurately identified as the institution where Collins played college basketball, and this fact is consistent with verified biographical information. The documentary features several prominent LGBTQ+ athletes, including Collins, to illustrate the challenges and triumphs of gay athletes in professional sports. The timeline and details align with public records and documented career paths. The refined knowledge correctly identifies Stanford University as the institution attended by Jason Collins, with no mention of financial arrangements or payments related to university attendance. The original statement that \"one of the key figures... paid for\" a university introduces an unsupported and potentially misleading assumption not present in the retrieved context or verifiable sources. Therefore, the factual accuracy of the claim is significantly compromised. The correct and factually grounded version of the information is that Jason Paul Collins played college basketball at Stanford University and was drafted by the Houston Rockets in 2001, later playing for the New Jersey Nets. This version is consistent with verified public records, avoids unsupported claims, and accurately reflects the documentary’s focus on LGBTQ+ athletes in professional sports.\n",
      "tgt:  The 2015 documentary *Out to Win*, directed by Malcolm Ingram, highlights the experiences of LGBTQ+ athletes in professional sports, with Jason Paul Collins being a central figure. Collins, born in 1978, played college basketball at Stanford University, where he was an All-American during the 2000–01 season. After his collegiate career, he was selected 18th overall in the 2001 NBA Draft by the Houston Rockets. He later played for the New Jersey Nets, which was the relocated version of the original New York Nets that moved to New Jersey in 1977. The film portrays Collins as a pioneering gay athlete who broke barriers in the NBA, contributing to greater visibility of LGBTQ+ individuals in professional sports. There is no evidence in the provided context—or in publicly available records—that Collins or any other key figure in the documentary paid for their university education. The claim that one of the key figures \"paid for\" a university is unsubstantiated, speculative, and not supported by factual data. Stanford University is accurately identified as the institution where Collins played college basketball, and this fact is consistent with verified biographical information. The documentary features several prominent LGBTQ+ athletes, including Collins, to illustrate the challenges and triumphs of gay athletes in professional sports. The timeline and details align with public records and documented career paths. The refined knowledge correctly identifies Stanford University as the institution attended by Jason Collins, with no mention of financial arrangements or payments related to university attendance. The original statement that \"one of the key figures... paid for\" a university introduces an unsupported and potentially misleading assumption not present in the retrieved context or verifiable sources. Therefore, the factual accuracy of the claim is significantly compromised. The correct and factually grounded version of the information is that Jason Paul Collins played college basketball at Stanford University and was drafted by the Houston Rockets in 2001, later playing for the New Jersey Nets. This version is consistent with verified public records, avoids unsupported claims, and accurately reflects the documentary’s focus on LGBTQ+ athletes in professional sports.\n",
      "score:  -1.3300390243530273\n",
      "response_loop\n"
     ]
    },
    {
     "name": "stderr",
     "output_type": "stream",
     "text": [
      "100%|██████████| 2/2 [00:00<00:00, 10.10it/s]\n"
     ]
    },
    {
     "name": "stdout",
     "output_type": "stream",
     "text": [
      "main_loop 2\n",
      "knowledge_loop\n",
      "process:0/1\n",
      "text:  Based on Question, please generate the factual knowledge. To do this, please consider these factors: Verifiability, Objectivity, and Reliability of Source. Note that this evaluation should be based on the best available medical knowledge.\n",
      "\n",
      "Question: Which university did one of the key figures in the American documentary film, released in 2015, directed by Malcolm Ingram, pay for, before being drafted 18th overall pick for the New Jersey Nets?\n",
      "Knowledge: The question refers to a key figure in the 2015 documentary *Out to Win*, directed by Malcolm Ingram, who attended a university before being drafted 18th overall by the New Jersey Nets. The documentary highlights the history of LGBT participation in professional sports, featuring individuals such as Jason Collins. Among the key figures, Jason Paul Collins is directly relevant: he was an All-American basketball player at Stanford University before being drafted 18th overall in the 2001 NBA draft by the Houston Rockets. Although he was drafted by the Rockets, he later played for the New Jersey Nets (a team that relocated from New York in 1977 and was known as the New York Nets before the move). Collins played college basketball at Stanford, where he was recognized as an All-American during the 2000–01 season. This aligns with the timeline and context of the question, which seeks to identify a key figure from the documentary who attended a university prior to being drafted by the New Jersey Nets. While the film features several notable athletes, only Jason Collins fits the specific criteria of being a key figure, attending a university, and being drafted by the Nets. The retrieved context confirms that Collins played for the Nets during his career, and his college career at Stanford is well-documented. Therefore, the university in question is Stanford University. The background knowledge centers on Collins’ journey from Stanford to the NBA, highlighting the intersection of LGBTQ+ visibility in sports and the professional pathways of athletes. This context supports the answer that Jason Collins, a central figure in *Out to Win*, played college basketball at Stanford before being drafted by the Nets.\n",
      "tgt:  The question refers to a key figure in the 2015 documentary *Out to Win*, directed by Malcolm Ingram, who attended a university before being drafted 18th overall by the New Jersey Nets. The documentary highlights the history of LGBT participation in professional sports, featuring individuals such as Jason Collins. Among the key figures, Jason Paul Collins is directly relevant: he was an All-American basketball player at Stanford University before being drafted 18th overall in the 2001 NBA draft by the Houston Rockets. Although he was drafted by the Rockets, he later played for the New Jersey Nets (a team that relocated from New York in 1977 and was known as the New York Nets before the move). Collins played college basketball at Stanford, where he was recognized as an All-American during the 2000–01 season. This aligns with the timeline and context of the question, which seeks to identify a key figure from the documentary who attended a university prior to being drafted by the New Jersey Nets. While the film features several notable athletes, only Jason Collins fits the specific criteria of being a key figure, attending a university, and being drafted by the Nets. The retrieved context confirms that Collins played for the Nets during his career, and his college career at Stanford is well-documented. Therefore, the university in question is Stanford University. The background knowledge centers on Collins’ journey from Stanford to the NBA, highlighting the intersection of LGBTQ+ visibility in sports and the professional pathways of athletes. This context supports the answer that Jason Collins, a central figure in *Out to Win*, played college basketball at Stanford before being drafted by the Nets.\n",
      "score:  -1.4158941507339478\n",
      "process:0/1\n",
      "text:  Based on Question, please generate the factual knowledge. To do this, please consider these factors: Verifiability, Objectivity, and Reliability of Source. Note that this evaluation should be based on the best available medical knowledge.\n",
      "\n",
      "Question: Which university did one of the key figures in the American documentary film, released in 2015, directed by Malcolm Ingram, pay for, before being drafted 18th overall pick for the New Jersey Nets?\n",
      "Knowledge: The question appears to contain a factual error based on the provided context. The 2015 documentary *Out to Win*, directed by Malcolm Ingram, highlights the history of LGBTQ+ participation in professional sports and features key figures such as Jason Collins. Jason Paul Collins, a prominent figure in the film, played college basketball at Stanford University and was recognized as an All-American during the 2000–01 season. He was selected 18th overall in the 2001 NBA Draft by the Houston Rockets, not the New Jersey Nets. While he did play for the New Jersey Nets during his career, the team was not known as the \"New Jersey Nets\" at the time of his draft in 2001; the franchise relocated from New York to New Jersey in 1977 and was known as the New Jersey Nets from that point onward. Collins played for the Nets in later years, including during the 2000s, but his draft was by the Houston Rockets. Therefore, the claim that he was drafted 18th overall by the New Jersey Nets is inaccurate. The correct sequence is that Collins played at Stanford, was drafted by the Houston Rockets in 2001, and later played for the New Jersey Nets. The documentary *Out to Win* features several athletes, but only Jason Collins fits the specific criteria of being a key figure, attending a university, and having a documented college and draft history. The background information confirms his college career at Stanford and his NBA draft status with the Rockets. The confusion may stem from the Nets' later affiliation with Collins, but the draft pick and team at the time of selection were not the New Jersey Nets. Thus, the university in question is Stanford University, and the key figure is Jason Paul Collins. However, the claim that he was drafted 18th overall by the New Jersey Nets is factually incorrect. The correct answer is that Jason Collins attended Stanford University before being drafted 18th overall by the Houston Rockets in 2001. The New Jersey Nets were not involved in his draft. This refinement corrects the factual inaccuracy while preserving the core context of the documentary and the athlete’s career.\n",
      "tgt:  The question appears to contain a factual error based on the provided context. The 2015 documentary *Out to Win*, directed by Malcolm Ingram, highlights the history of LGBTQ+ participation in professional sports and features key figures such as Jason Collins. Jason Paul Collins, a prominent figure in the film, played college basketball at Stanford University and was recognized as an All-American during the 2000–01 season. He was selected 18th overall in the 2001 NBA Draft by the Houston Rockets, not the New Jersey Nets. While he did play for the New Jersey Nets during his career, the team was not known as the \"New Jersey Nets\" at the time of his draft in 2001; the franchise relocated from New York to New Jersey in 1977 and was known as the New Jersey Nets from that point onward. Collins played for the Nets in later years, including during the 2000s, but his draft was by the Houston Rockets. Therefore, the claim that he was drafted 18th overall by the New Jersey Nets is inaccurate. The correct sequence is that Collins played at Stanford, was drafted by the Houston Rockets in 2001, and later played for the New Jersey Nets. The documentary *Out to Win* features several athletes, but only Jason Collins fits the specific criteria of being a key figure, attending a university, and having a documented college and draft history. The background information confirms his college career at Stanford and his NBA draft status with the Rockets. The confusion may stem from the Nets' later affiliation with Collins, but the draft pick and team at the time of selection were not the New Jersey Nets. Thus, the university in question is Stanford University, and the key figure is Jason Paul Collins. However, the claim that he was drafted 18th overall by the New Jersey Nets is factually incorrect. The correct answer is that Jason Collins attended Stanford University before being drafted 18th overall by the Houston Rockets in 2001. The New Jersey Nets were not involved in his draft. This refinement corrects the factual inaccuracy while preserving the core context of the documentary and the athlete’s career.\n",
      "score:  -1.0569716691970825\n",
      "process:0/1\n",
      "text:  Based on Question, please generate the factual knowledge. To do this, please consider these factors: Verifiability, Objectivity, and Reliability of Source. Note that this evaluation should be based on the best available medical knowledge.\n",
      "\n",
      "Question: Which university did one of the key figures in the American documentary film, released in 2015, directed by Malcolm Ingram, pay for, before being drafted 18th overall pick for the New Jersey Nets?\n",
      "Knowledge: The 2015 documentary *Out to Win*, directed by Malcolm Ingram, highlights the contributions of LGBTQ+ individuals in professional sports, with Jason Paul Collins being a key figure. Collins, a former professional basketball player, played college basketball at Stanford University, where he was recognized as an All-American during the 2000–01 season. After his collegiate career, he was selected 18th overall in the 2001 NBA Draft by the Houston Rockets, not the New Jersey Nets. The New Jersey Nets, which relocated from New York in 1977, did not draft Collins; rather, he played for them later in his career, including during the 2000s. The confusion in the original claim likely arises from his later association with the Nets, but the draft selection and team at the time of entry into the NBA were the Houston Rockets. Therefore, the university Jason Collins attended before entering the NBA is Stanford University. The claim that he was drafted by the New Jersey Nets is factually incorrect, as the draft occurred in 2001, and the Nets were not the team selecting him. The Houston Rockets were the franchise that drafted him, and the Nets were a separate team in his career trajectory. The documentary *Out to Win* features several prominent LGBTQ+ athletes, but only Jason Collins fits the specific criteria of having a documented college career, NBA draft history, and later playing for the New Jersey Nets. His career path reflects a significant milestone in LGBTQ+ visibility in professional sports. The factual accuracy of the original statement is therefore corrected: Jason Paul Collins played at Stanford University and was drafted 18th overall by the Houston Rockets in 2001. He later played for the New Jersey Nets during his career, but the draft pick and team at the time of selection were not the Nets. This refinement ensures factual consistency with verified records of his college and professional career. The background information confirms his All-American status at Stanford and his draft history with the Rockets. The error in the original claim—linking his draft to the New Jersey Nets—has been corrected to reflect the actual historical and factual sequence of events. Thus, the accurate answer is that Jason Paul Collins attended Stanford University before being drafted 18th overall by the Houston Rockets in 2001.\n",
      "tgt:  The 2015 documentary *Out to Win*, directed by Malcolm Ingram, highlights the contributions of LGBTQ+ individuals in professional sports, with Jason Paul Collins being a key figure. Collins, a former professional basketball player, played college basketball at Stanford University, where he was recognized as an All-American during the 2000–01 season. After his collegiate career, he was selected 18th overall in the 2001 NBA Draft by the Houston Rockets, not the New Jersey Nets. The New Jersey Nets, which relocated from New York in 1977, did not draft Collins; rather, he played for them later in his career, including during the 2000s. The confusion in the original claim likely arises from his later association with the Nets, but the draft selection and team at the time of entry into the NBA were the Houston Rockets. Therefore, the university Jason Collins attended before entering the NBA is Stanford University. The claim that he was drafted by the New Jersey Nets is factually incorrect, as the draft occurred in 2001, and the Nets were not the team selecting him. The Houston Rockets were the franchise that drafted him, and the Nets were a separate team in his career trajectory. The documentary *Out to Win* features several prominent LGBTQ+ athletes, but only Jason Collins fits the specific criteria of having a documented college career, NBA draft history, and later playing for the New Jersey Nets. His career path reflects a significant milestone in LGBTQ+ visibility in professional sports. The factual accuracy of the original statement is therefore corrected: Jason Paul Collins played at Stanford University and was drafted 18th overall by the Houston Rockets in 2001. He later played for the New Jersey Nets during his career, but the draft pick and team at the time of selection were not the Nets. This refinement ensures factual consistency with verified records of his college and professional career. The background information confirms his All-American status at Stanford and his draft history with the Rockets. The error in the original claim—linking his draft to the New Jersey Nets—has been corrected to reflect the actual historical and factual sequence of events. Thus, the accurate answer is that Jason Paul Collins attended Stanford University before being drafted 18th overall by the Houston Rockets in 2001.\n",
      "score:  -1.2849172353744507\n",
      "response_loop\n"
     ]
    },
    {
     "name": "stderr",
     "output_type": "stream",
     "text": [
      "100%|██████████| 2/2 [00:00<00:00, 10.80it/s]\n",
      " 50%|█████     | 1/2 [15:35<15:35, 935.63s/it]"
     ]
    },
    {
     "name": "stdout",
     "output_type": "stream",
     "text": [
      "=> Retrieving documents...\n",
      "=> Reranking documents...\n"
     ]
    },
    {
     "name": "stderr",
     "output_type": "stream",
     "text": [
      "100%|██████████| 1/1 [00:00<00:00, 28.78it/s]\n"
     ]
    },
    {
     "name": "stdout",
     "output_type": "stream",
     "text": [
      "=> Generating response with self-reflection...\n",
      "main_loop 0\n",
      "knowledge_loop\n",
      "process:0/1\n",
      "text:  Based on Question, please generate the factual knowledge. To do this, please consider these factors: Verifiability, Objectivity, and Reliability of Source. Note that this evaluation should be based on the best available medical knowledge.\n",
      "\n",
      "Question: Were both Léopold Eyharts and Ulrich Walter a General in the French Air Force? \n",
      "Knowledge: Léopold Eyharts and Ulrich Walter were not both generals in the French Air Force. Léopold Eyharts, born in 1957, is a Brigadier General in the French Air Force, a military engineer, and an astronaut with the European Space Agency (ESA). His military rank and affiliation are clearly documented within the French Air Force structure. In contrast, Ulrich Hans Walter, born in 1954, is a German physicist and engineer who served as an astronaut with the German Aerospace Center (DFVLR), not the French Air Force. He had no military affiliation with France, nor is there any record of him holding a general rank in the French Air Force. The context provided does not indicate any connection between Walter and the French military. The French Air Force is a distinct national institution, and Ulrich Walter’s career was rooted in German aerospace research and space exploration, not French military service. Therefore, while Eyharts held a general rank in the French Air Force, Walter did not serve in the French Air Force at all, nor is there evidence of him holding a general rank in any French military organization. The confusion may arise from the term \"general,\" which is used in various military contexts, but in this case, the national and institutional affiliations clearly differentiate their roles. Thus, only Léopold Eyharts was a general in the French Air Force; Ulrich Walter was not.\n",
      "tgt:  Léopold Eyharts and Ulrich Walter were not both generals in the French Air Force. Léopold Eyharts, born in 1957, is a Brigadier General in the French Air Force, a military engineer, and an astronaut with the European Space Agency (ESA). His military rank and affiliation are clearly documented within the French Air Force structure. In contrast, Ulrich Hans Walter, born in 1954, is a German physicist and engineer who served as an astronaut with the German Aerospace Center (DFVLR), not the French Air Force. He had no military affiliation with France, nor is there any record of him holding a general rank in the French Air Force. The context provided does not indicate any connection between Walter and the French military. The French Air Force is a distinct national institution, and Ulrich Walter’s career was rooted in German aerospace research and space exploration, not French military service. Therefore, while Eyharts held a general rank in the French Air Force, Walter did not serve in the French Air Force at all, nor is there evidence of him holding a general rank in any French military organization. The confusion may arise from the term \"general,\" which is used in various military contexts, but in this case, the national and institutional affiliations clearly differentiate their roles. Thus, only Léopold Eyharts was a general in the French Air Force; Ulrich Walter was not.\n",
      "score:  -1.080214500427246\n",
      "process:0/1\n",
      "text:  Based on Question, please generate the factual knowledge. To do this, please consider these factors: Verifiability, Objectivity, and Reliability of Source. Note that this evaluation should be based on the best available medical knowledge.\n",
      "\n",
      "Question: Were both Léopold Eyharts and Ulrich Walter a General in the French Air Force? \n",
      "Knowledge: Léopold Eyharts is a Brigadier General in the French Air Force, a confirmed fact supported by official military records and public biographies. Born in 1957, he has served in the French Air Force as a military engineer and has also participated in space missions as an astronaut with the European Space Agency (ESA). His rank and affiliation are clearly documented within the French Air Force structure, and he is recognized as a senior officer in the French aerospace and defense community. In contrast, Ulrich Hans Walter, born in 1954, is a German physicist and engineer who worked with the German Aerospace Center (DFVLR) and served as an astronaut in German space programs. There is no evidence—nor any official record—of Ulrich Walter serving in the French Air Force, nor of any military affiliation with France. The French Air Force is a distinct national institution, and Walter’s professional career has been entirely rooted in German aerospace research and space exploration, not French military service. The term \"general\" may be misleading in this context, as it is used in various military systems, but in France, the rank of \"general\" is reserved for specific high-ranking officers within the French Armed Forces. Since Walter never held a military position in France and was not affiliated with any French defense organization, he cannot be classified as a general in the French Air Force. The confusion may stem from the shared use of the term \"general\" across different national militaries or space programs, but institutional and national boundaries clearly separate their careers. Therefore, only Léopold Eyharts held a general rank in the French Air Force. Ulrich Walter’s contributions were in the field of aerospace engineering and science, not military service in France. This distinction is further reinforced by the absence of any official documentation linking Walter to the French military or to any French Air Force rank. The provided context does not suggest any overlap between Walter and the French Air Force. Thus, the accurate conclusion is that while Léopold Eyharts was a general in the French Air Force, Ulrich Walter was not affiliated with the French military at all. This clarification is consistent with publicly available biographies, institutional affiliations, and the structural independence of national defense forces. The factuality of this statement is well-supported by verifiable sources and institutional records.\n",
      "tgt:  Léopold Eyharts is a Brigadier General in the French Air Force, a confirmed fact supported by official military records and public biographies. Born in 1957, he has served in the French Air Force as a military engineer and has also participated in space missions as an astronaut with the European Space Agency (ESA). His rank and affiliation are clearly documented within the French Air Force structure, and he is recognized as a senior officer in the French aerospace and defense community. In contrast, Ulrich Hans Walter, born in 1954, is a German physicist and engineer who worked with the German Aerospace Center (DFVLR) and served as an astronaut in German space programs. There is no evidence—nor any official record—of Ulrich Walter serving in the French Air Force, nor of any military affiliation with France. The French Air Force is a distinct national institution, and Walter’s professional career has been entirely rooted in German aerospace research and space exploration, not French military service. The term \"general\" may be misleading in this context, as it is used in various military systems, but in France, the rank of \"general\" is reserved for specific high-ranking officers within the French Armed Forces. Since Walter never held a military position in France and was not affiliated with any French defense organization, he cannot be classified as a general in the French Air Force. The confusion may stem from the shared use of the term \"general\" across different national militaries or space programs, but institutional and national boundaries clearly separate their careers. Therefore, only Léopold Eyharts held a general rank in the French Air Force. Ulrich Walter’s contributions were in the field of aerospace engineering and science, not military service in France. This distinction is further reinforced by the absence of any official documentation linking Walter to the French military or to any French Air Force rank. The provided context does not suggest any overlap between Walter and the French Air Force. Thus, the accurate conclusion is that while Léopold Eyharts was a general in the French Air Force, Ulrich Walter was not affiliated with the French military at all. This clarification is consistent with publicly available biographies, institutional affiliations, and the structural independence of national defense forces. The factuality of this statement is well-supported by verifiable sources and institutional records.\n",
      "score:  -1.2573317289352417\n",
      "process:0/1\n",
      "text:  Based on Question, please generate the factual knowledge. To do this, please consider these factors: Verifiability, Objectivity, and Reliability of Source. Note that this evaluation should be based on the best available medical knowledge.\n",
      "\n",
      "Question: Were both Léopold Eyharts and Ulrich Walter a General in the French Air Force? \n",
      "Knowledge: Léopold Eyharts is a Brigadier General in the French Air Force, a fact supported by official military records and public biographies. Born in 1957, he has served as a military engineer and has participated in space missions as an astronaut with the European Space Agency (ESA). His rank and affiliation are clearly documented within the French Air Force structure, and he is recognized as a senior officer in the French aerospace and defense community. In contrast, Ulrich Hans Walter, born in 1954, is a German physicist and engineer who worked with the German Aerospace Center (DFVLR) and served as an astronaut in German space programs. There is no evidence—nor any official record—of Ulrich Walter serving in the French Air Force or holding any military position in France. The French Air Force is a distinct national institution, and Walter’s professional career has been entirely rooted in German aerospace research and space exploration, not in French military service. The term \"general\" may be used in various military contexts, but in France, the rank of \"general\" is reserved for high-ranking officers within the French Armed Forces, and only those officially appointed and documented in French military records can be classified as such. Since Walter never held a military role in France and was not affiliated with any French defense organization, he cannot be considered a general in the French Air Force. This distinction is reinforced by institutional boundaries and the lack of any verifiable documentation linking Walter to French military service. Publicly available biographies, institutional affiliations, and the structural independence of national defense forces confirm that Walter’s contributions were in the field of aerospace engineering and science, not military service in France. The confusion may arise from the shared use of the term \"general\" across different national militaries or space programs, but national institutional boundaries clearly separate their careers. Therefore, only Léopold Eyharts held a general rank in the French Air Force. Ulrich Walter’s career remains firmly within Germany’s scientific and engineering domains. This conclusion is consistent with verifiable sources, official records, and the established structure of national defense forces. The factuality of this statement is well-supported by reliable, publicly accessible information and institutional affiliations. No credible source or official document links Ulrich Walter to the French Air Force or to any military role in France. Thus, the accurate and factually grounded conclusion is that Léopold Eyharts was a general in the French Air Force, while Ulrich Walter was not affiliated with the French military at all\n",
      "tgt:  Léopold Eyharts is a Brigadier General in the French Air Force, a fact supported by official military records and public biographies. Born in 1957, he has served as a military engineer and has participated in space missions as an astronaut with the European Space Agency (ESA). His rank and affiliation are clearly documented within the French Air Force structure, and he is recognized as a senior officer in the French aerospace and defense community. In contrast, Ulrich Hans Walter, born in 1954, is a German physicist and engineer who worked with the German Aerospace Center (DFVLR) and served as an astronaut in German space programs. There is no evidence—nor any official record—of Ulrich Walter serving in the French Air Force or holding any military position in France. The French Air Force is a distinct national institution, and Walter’s professional career has been entirely rooted in German aerospace research and space exploration, not in French military service. The term \"general\" may be used in various military contexts, but in France, the rank of \"general\" is reserved for high-ranking officers within the French Armed Forces, and only those officially appointed and documented in French military records can be classified as such. Since Walter never held a military role in France and was not affiliated with any French defense organization, he cannot be considered a general in the French Air Force. This distinction is reinforced by institutional boundaries and the lack of any verifiable documentation linking Walter to French military service. Publicly available biographies, institutional affiliations, and the structural independence of national defense forces confirm that Walter’s contributions were in the field of aerospace engineering and science, not military service in France. The confusion may arise from the shared use of the term \"general\" across different national militaries or space programs, but national institutional boundaries clearly separate their careers. Therefore, only Léopold Eyharts held a general rank in the French Air Force. Ulrich Walter’s career remains firmly within Germany’s scientific and engineering domains. This conclusion is consistent with verifiable sources, official records, and the established structure of national defense forces. The factuality of this statement is well-supported by reliable, publicly accessible information and institutional affiliations. No credible source or official document links Ulrich Walter to the French Air Force or to any military role in France. Thus, the accurate and factually grounded conclusion is that Léopold Eyharts was a general in the French Air Force, while Ulrich Walter was not affiliated with the French military at all\n",
      "score:  -1.2712292671203613\n",
      "response_loop\n"
     ]
    },
    {
     "name": "stderr",
     "output_type": "stream",
     "text": [
      "100%|██████████| 2/2 [00:00<00:00, 12.31it/s]\n",
      "100%|██████████| 2/2 [20:50<00:00, 625.49s/it]\n"
     ]
    }
   ],
   "source": [
    "num_samples = 2\n",
    "dataset = []\n",
    "for d in tqdm(ds.select(range(num_samples)), total=num_samples):\n",
    "    question = d[\"question\"]\n",
    "    reference = d[\"response\"]\n",
    "\n",
    "    final_response, relevant_docs = answer_with_rag_reflection(args, question, KNOWLEDGE_VECTOR_DATABASE, use_reranker=True)\n",
    "\n",
    "    dataset.append(\n",
    "        {\n",
    "            \"user_input\": question,\n",
    "            \"retrieved_contexts\": relevant_docs,\n",
    "            \"response\": final_response,\n",
    "            \"reference\": reference,\n",
    "            \"adherence_score\": d[\"adherence_score\"],\n",
    "            \"relevance_score\": d[\"relevance_score\"],\n",
    "        }\n",
    "    )"
   ]
  },
  {
   "cell_type": "code",
   "execution_count": 9,
   "id": "daab644a",
   "metadata": {},
   "outputs": [
    {
     "name": "stderr",
     "output_type": "stream",
     "text": [
      "WARNING: All log messages before absl::InitializeLog() is called are written to STDERR\n",
      "E0000 00:00:1761277222.820471 2928735 alts_credentials.cc:93] ALTS creds ignored. Not running on GCP and untrusted ALTS is not enabled.\n",
      "/tmp/ipykernel_2928735/2935404805.py:1: DeprecationWarning: LangchainLLMWrapper is deprecated and will be removed in a future version. Use the modern LLM providers instead: from ragas.llms.base import llm_factory; llm = llm_factory('gpt-4o-mini') or from ragas.llms.base import instructor_llm_factory; llm = instructor_llm_factory('openai', client=openai_client)\n",
      "  evaluator_llm = LangchainLLMWrapper(\n"
     ]
    }
   ],
   "source": [
    "evaluator_llm = LangchainLLMWrapper(\n",
    "    ChatGoogleGenerativeAI(\n",
    "        model=\"gemini-2.5-flash\",\n",
    "        temperature=0,\n",
    "        max_tokens=None,\n",
    "        timeout=None,\n",
    "        max_retries=2,\n",
    "    )\n",
    ")"
   ]
  },
  {
   "cell_type": "code",
   "execution_count": 10,
   "id": "4edc92d3",
   "metadata": {},
   "outputs": [
    {
     "data": {
      "application/vnd.jupyter.widget-view+json": {
       "model_id": "e9d591f7ebe94b56b78523dcc4199107",
       "version_major": 2,
       "version_minor": 0
      },
      "text/plain": [
       "Evaluating:   0%|          | 0/6 [00:00<?, ?it/s]"
      ]
     },
     "metadata": {},
     "output_type": "display_data"
    },
    {
     "name": "stderr",
     "output_type": "stream",
     "text": [
      "E0000 00:00:1761277223.743246 2928735 alts_credentials.cc:93] ALTS creds ignored. Not running on GCP and untrusted ALTS is not enabled.\n"
     ]
    },
    {
     "name": "stdout",
     "output_type": "stream",
     "text": [
      "{'factual_correctness(mode=f1)': 0.3100, 'faithfulness': 0.8684, 'nv_context_relevance': 0.6250}\n"
     ]
    }
   ],
   "source": [
    "evaluation_dataset = Dataset.from_list(dataset)\n",
    "\n",
    "ragas_result = evaluate(evaluation_dataset, metrics=[FactualCorrectness(), Faithfulness(), ContextRelevance()], llm=evaluator_llm)\n",
    "print(ragas_result)"
   ]
  },
  {
   "cell_type": "code",
   "execution_count": 11,
   "id": "1093f20e",
   "metadata": {},
   "outputs": [
    {
     "data": {
      "text/html": [
       "<div>\n",
       "<style scoped>\n",
       "    .dataframe tbody tr th:only-of-type {\n",
       "        vertical-align: middle;\n",
       "    }\n",
       "\n",
       "    .dataframe tbody tr th {\n",
       "        vertical-align: top;\n",
       "    }\n",
       "\n",
       "    .dataframe thead th {\n",
       "        text-align: right;\n",
       "    }\n",
       "</style>\n",
       "<table border=\"1\" class=\"dataframe\">\n",
       "  <thead>\n",
       "    <tr style=\"text-align: right;\">\n",
       "      <th></th>\n",
       "      <th>user_input</th>\n",
       "      <th>retrieved_contexts</th>\n",
       "      <th>response</th>\n",
       "      <th>reference</th>\n",
       "      <th>factual_correctness(mode=f1)</th>\n",
       "      <th>faithfulness</th>\n",
       "      <th>nv_context_relevance</th>\n",
       "    </tr>\n",
       "  </thead>\n",
       "  <tbody>\n",
       "    <tr>\n",
       "      <th>0</th>\n",
       "      <td>Which university did one of the key figures in...</td>\n",
       "      <td>[Out to Win is an American documentary film, r...</td>\n",
       "      <td>None of the key figures in the 2015 documentar...</td>\n",
       "      <td>One of the key figures in the American documen...</td>\n",
       "      <td>0.00</td>\n",
       "      <td>0.736842</td>\n",
       "      <td>0.50</td>\n",
       "    </tr>\n",
       "    <tr>\n",
       "      <th>1</th>\n",
       "      <td>Were both Léopold Eyharts and Ulrich Walter a ...</td>\n",
       "      <td>[Léopold Eyharts (born April 28, 1957) is a Br...</td>\n",
       "      <td>No, both Léopold Eyharts and Ulrich Walter wer...</td>\n",
       "      <td>No, only Léopold Eyharts was a General in the ...</td>\n",
       "      <td>0.62</td>\n",
       "      <td>1.000000</td>\n",
       "      <td>0.75</td>\n",
       "    </tr>\n",
       "  </tbody>\n",
       "</table>\n",
       "</div>"
      ],
      "text/plain": [
       "                                          user_input  \\\n",
       "0  Which university did one of the key figures in...   \n",
       "1  Were both Léopold Eyharts and Ulrich Walter a ...   \n",
       "\n",
       "                                  retrieved_contexts  \\\n",
       "0  [Out to Win is an American documentary film, r...   \n",
       "1  [Léopold Eyharts (born April 28, 1957) is a Br...   \n",
       "\n",
       "                                            response  \\\n",
       "0  None of the key figures in the 2015 documentar...   \n",
       "1  No, both Léopold Eyharts and Ulrich Walter wer...   \n",
       "\n",
       "                                           reference  \\\n",
       "0  One of the key figures in the American documen...   \n",
       "1  No, only Léopold Eyharts was a General in the ...   \n",
       "\n",
       "   factual_correctness(mode=f1)  faithfulness  nv_context_relevance  \n",
       "0                          0.00      0.736842                  0.50  \n",
       "1                          0.62      1.000000                  0.75  "
      ]
     },
     "execution_count": 11,
     "metadata": {},
     "output_type": "execute_result"
    }
   ],
   "source": [
    "ragas_result_df = ragas_result.to_pandas()\n",
    "ragas_result_df.head()"
   ]
  },
  {
   "cell_type": "code",
   "execution_count": 12,
   "id": "0fe72bca",
   "metadata": {},
   "outputs": [],
   "source": [
    "import sys\n",
    "\n",
    "sys.path.append(\"ragbench/ragbench\")\n",
    "\n",
    "from evaluation import calculate_metrics"
   ]
  },
  {
   "cell_type": "code",
   "execution_count": 13,
   "id": "12b5eb5d",
   "metadata": {},
   "outputs": [
    {
     "data": {
      "text/plain": [
       "Dataset({\n",
       "    features: ['user_input', 'retrieved_contexts', 'response', 'reference', 'adherence_score', 'relevance_score', 'faithfulness', 'context_relevance'],\n",
       "    num_rows: 2\n",
       "})"
      ]
     },
     "execution_count": 13,
     "metadata": {},
     "output_type": "execute_result"
    }
   ],
   "source": [
    "evaluation_dataset = evaluation_dataset.add_column(\"faithfulness\", ragas_result[\"faithfulness\"])\n",
    "evaluation_dataset = evaluation_dataset.add_column(\"context_relevance\", ragas_result[\"nv_context_relevance\"])\n",
    "evaluation_dataset"
   ]
  },
  {
   "cell_type": "code",
   "execution_count": 14,
   "id": "ce80d476",
   "metadata": {},
   "outputs": [
    {
     "data": {
      "text/plain": [
       "{'hallucination_auroc': 1.0, 'relevance_rmse': np.float64(0.4615988003900188)}"
      ]
     },
     "execution_count": 14,
     "metadata": {},
     "output_type": "execute_result"
    }
   ],
   "source": [
    "metrics = calculate_metrics(\n",
    "    evaluation_dataset,\n",
    "    pred_adherence=\"faithfulness\",  # adherence_score\n",
    "    pred_context_relevance=\"context_relevance\",  # relevance_score\n",
    ")\n",
    "metrics"
   ]
  }
 ],
 "metadata": {
  "kernelspec": {
   "display_name": "AI6130",
   "language": "python",
   "name": "python3"
  },
  "language_info": {
   "codemirror_mode": {
    "name": "ipython",
    "version": 3
   },
   "file_extension": ".py",
   "mimetype": "text/x-python",
   "name": "python",
   "nbconvert_exporter": "python",
   "pygments_lexer": "ipython3",
   "version": "3.12.12"
  }
 },
 "nbformat": 4,
 "nbformat_minor": 5
}
