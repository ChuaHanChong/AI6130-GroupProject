{
 "cells": [
  {
   "cell_type": "code",
   "execution_count": 1,
   "id": "2453405e",
   "metadata": {},
   "outputs": [],
   "source": [
    "import sys\n",
    "sys.path.append(\"self_reflection\")\n",
    "\n",
    "from dotenv import load_dotenv\n",
    "load_dotenv(\".env\")\n",
    "\n",
    "import torch\n",
    "from datasets import Dataset, load_dataset\n",
    "from langchain_google_genai import ChatGoogleGenerativeAI\n",
    "from ragas import evaluate\n",
    "from ragas.llms import LangchainLLMWrapper\n",
    "from ragas.metrics import FactualCorrectness\n",
    "from transformers import AutoModelForCausalLM, AutoTokenizer, BitsAndBytesConfig\n",
    "from tqdm import tqdm\n",
    "\n",
    "from CTRLEval.ctrleval import CTRLEval\n",
    "from evaluate.sent_similarity import Sent_Similar\n",
    "from loop import knowledge_loop, response_loop\n",
    "from loop_utils import main_loop"
   ]
  },
  {
   "cell_type": "code",
   "execution_count": 2,
   "id": "5b320f46",
   "metadata": {},
   "outputs": [],
   "source": [
    "ds = load_dataset(\"rungalileo/ragbench\", \"hotpotqa\", split=\"test\")"
   ]
  },
  {
   "cell_type": "code",
   "execution_count": 3,
   "id": "44f5168b",
   "metadata": {},
   "outputs": [
    {
     "data": {
      "text/plain": [
       "'Which university did one of the key figures in the American documentary film, released in 2015, directed by Malcolm Ingram, pay for, before being drafted 18th overall pick for the New Jersey Nets?'"
      ]
     },
     "execution_count": 3,
     "metadata": {},
     "output_type": "execute_result"
    }
   ],
   "source": [
    "ds[0]['question']"
   ]
  },
  {
   "cell_type": "code",
   "execution_count": null,
   "id": "f3121b3f",
   "metadata": {},
   "outputs": [
    {
     "name": "stderr",
     "output_type": "stream",
     "text": [
      "Some weights of PegasusForConditionalGeneration were not initialized from the model checkpoint at google/pegasus-large and are newly initialized: ['model.decoder.embed_positions.weight', 'model.encoder.embed_positions.weight']\n",
      "You should probably TRAIN this model on a down-stream task to be able to use it for predictions and inference.\n"
     ]
    }
   ],
   "source": [
    "ctrleval_scorer = CTRLEval(\n",
    "    iwf_dir=\"self_reflection/CTRLEval/iwf_full.txt\",\n",
    "    prompt_dir=\"self_reflection/CTRLEval/prompt/prompt_topic.txt\",\n",
    "    verbal_dir=\"self_reflection/CTRLEval/prompt/verbal_topic.txt\",\n",
    "    device='cuda',\n",
    ")\n",
    "\n",
    "# Error: Some weights of PegasusForConditionalGeneration were not initialized from the model checkpoint at google/pegasus-xsum and are newly initialized: ['model.decoder.embed_positions.weight', 'model.encoder.embed_positions.weight']\n",
    "# Ignore because Pegasus uses static, sinusoidal position embeddings (rather than learned embeddings) for both encoder and decoder.\n",
    "\n",
    "entailment_scorer = Sent_Similar()"
   ]
  },
  {
   "cell_type": "code",
   "execution_count": 5,
   "id": "7d76278d",
   "metadata": {},
   "outputs": [
    {
     "data": {
      "application/vnd.jupyter.widget-view+json": {
       "model_id": "5e1b7fe2945249e08c339a437967ad63",
       "version_major": 2,
       "version_minor": 0
      },
      "text/plain": [
       "Loading checkpoint shards:   0%|          | 0/3 [00:00<?, ?it/s]"
      ]
     },
     "metadata": {},
     "output_type": "display_data"
    }
   ],
   "source": [
    "MODEL_NAME = \"Qwen/Qwen3-4B-Instruct-2507\"\n",
    "\n",
    "bnb_config = BitsAndBytesConfig(\n",
    "    load_in_4bit=True,\n",
    "    bnb_4bit_use_double_quant=True,\n",
    "    bnb_4bit_quant_type=\"nf4\",\n",
    "    bnb_4bit_compute_dtype=torch.bfloat16,\n",
    ")\n",
    "\n",
    "model = AutoModelForCausalLM.from_pretrained(MODEL_NAME, quantization_config=bnb_config, device_map=\"auto\")\n",
    "tokenizer = AutoTokenizer.from_pretrained(MODEL_NAME)"
   ]
  },
  {
   "cell_type": "code",
   "execution_count": null,
   "id": "5b3b0b1b",
   "metadata": {},
   "outputs": [],
   "source": [
    "class Args:\n",
    "    continue_generate = False\n",
    "    no_number = False\n",
    "    no_aspect = False\n",
    "\n",
    "    max_loop = 1\n",
    "    max_knowledge_loop = 1\n",
    "    max_response_loop = 1\n",
    "    demo_num = 0\n",
    "\n",
    "    threshold_entailment = 0.8\n",
    "    threshold_fact = -1\n",
    "    threshold_consistency = -5\n",
    "\n",
    "    max_sample = 3000\n",
    "    temperature = 1.0\n",
    "    top_p = 1\n",
    "    top_k = 1\n",
    "    num_beams = 1\n",
    "    max_new_tokens = 128"
   ]
  },
  {
   "cell_type": "code",
   "execution_count": 7,
   "id": "bdb8bbbe",
   "metadata": {},
   "outputs": [],
   "source": [
    "args = Args()\n",
    "args.max_loop = 3\n",
    "args.max_knowledge_loop = 3\n",
    "args.max_response_loop = 3\n",
    "args.demo_num = 0\n",
    "args.threshold_entailment = 0.8\n",
    "args.threshold_fact = -1.0\n",
    "args.threshold_consistency = -5\n",
    "args.max_new_tokens = 256\n",
    "\n",
    "#final_knowledge, final_response, all_history_knowledge, all_history_response = main_loop(args, ds[0], model, tokenizer, knowledge_loop, response_loop, entailment_scorer, ctrleval_scorer)"
   ]
  },
  {
   "cell_type": "code",
   "execution_count": 8,
   "id": "52d36170",
   "metadata": {},
   "outputs": [],
   "source": [
    "#print(final_response)"
   ]
  },
  {
   "cell_type": "code",
   "execution_count": 9,
   "id": "5360ae60",
   "metadata": {},
   "outputs": [
    {
     "name": "stderr",
     "output_type": "stream",
     "text": [
      "  0%|          | 0/2 [00:00<?, ?it/s]The following generation flags are not valid and may be ignored: ['top_k', 'early_stopping']. Set `TRANSFORMERS_VERBOSITY=info` for more details.\n",
      "`generation_config` default values have been modified to match model-specific defaults: {'do_sample': True, 'temperature': 0.7, 'top_p': 0.8, 'bos_token_id': 151643}. If this is not desired, please set these values explicitly.\n",
      "The following generation flags are not valid and may be ignored: ['early_stopping']. Set `TRANSFORMERS_VERBOSITY=info` for more details.\n"
     ]
    },
    {
     "name": "stdout",
     "output_type": "stream",
     "text": [
      "main_loop 0\n",
      "knowledge_loop\n",
      "process:0/1\n",
      "text:  Based on Question, please generate the factual knowledge. To do this, please consider these factors: Verifiability, Objectivity, and Reliability of Source. Note that this evaluation should be based on the best available medical knowledge.\n",
      "\n",
      "Question: Which university did one of the key figures in the American documentary film, released in 2015, directed by Malcolm Ingram, pay for, before being drafted 18th overall pick for the New Jersey Nets?\n",
      "Knowledge:  \n",
      "\n",
      "The question is asking about a person who was a key figure in the American documentary film released in 2015, directed by Malcolm Ingram. The film in question is \"The 18th Man,\" which was released in 2015 and directed by Malcolm Ingram. The film focuses on the story of a man who was drafted 18th overall in the 1984 NBA Draft, and it explores his journey and the challenges he faced as a player. The key figure in the film is the man himself, who was drafted 18th overall in the 1984 NBA Draft. The question is asking about the university that this man attended before being drafted.\n",
      "\n",
      "The man in question is not a well-known public figure, and there is no widely available information about his college education. However, based on the context of the film and the time period, it is possible that the man attended a university in the United States. Without more specific information, it is not possible to determine the exact university that he attended.\n",
      "\n",
      "Therefore, the answer to the question is that there is no known information about the university that the key figure in the American documentary film \"The 18th Man,\" released in 2015,\n",
      "tgt:   \n",
      "\n",
      "The question is asking about a person who was a key figure in the American documentary film released in 2015, directed by Malcolm Ingram. The film in question is \"The 18th Man,\" which was released in 2015 and directed by Malcolm Ingram. The film focuses on the story of a man who was drafted 18th overall in the 1984 NBA Draft, and it explores his journey and the challenges he faced as a player. The key figure in the film is the man himself, who was drafted 18th overall in the 1984 NBA Draft. The question is asking about the university that this man attended before being drafted.\n",
      "\n",
      "The man in question is not a well-known public figure, and there is no widely available information about his college education. However, based on the context of the film and the time period, it is possible that the man attended a university in the United States. Without more specific information, it is not possible to determine the exact university that he attended.\n",
      "\n",
      "Therefore, the answer to the question is that there is no known information about the university that the key figure in the American documentary film \"The 18th Man,\" released in 2015,\n",
      "score:  -0.42315590381622314\n",
      "response_loop\n"
     ]
    },
    {
     "name": "stderr",
     "output_type": "stream",
     "text": [
      "100%|██████████| 2/2 [00:00<00:00, 28.52it/s]\n"
     ]
    },
    {
     "name": "stdout",
     "output_type": "stream",
     "text": [
      "main_loop 1\n",
      "knowledge_loop\n",
      "process:0/1\n",
      "text:  Based on Question, please generate the factual knowledge. To do this, please consider these factors: Verifiability, Objectivity, and Reliability of Source. Note that this evaluation should be based on the best available medical knowledge.\n",
      "\n",
      "Question: Which university did one of the key figures in the American documentary film, released in 2015, directed by Malcolm Ingram, pay for, before being drafted 18th overall pick for the New Jersey Nets?\n",
      "Knowledge:  \n",
      "\n",
      "The question is asking about a person who was a key figure in the American documentary film released in 2015, directed by Malcolm Ingram. The film in question is \"The 18th Man,\" which was released in 2015 and directed by Malcolm Ingram. The film focuses on the story of a man who was drafted 18th overall in the 1984 NBA Draft, and it explores his journey and the challenges he faced as a player. The key figure in the film is the man himself, who was drafted 18th overall in the 1984 NBA Draft. The question is asking about the university that this man attended before being drafted.\n",
      "\n",
      "The man in question is not a well-known public figure, and there is no widely available information about his college education. However, based on the context of the film and the time period, it is possible that the man attended a university in the United States. Without more specific information, it is not possible to determine the exact university that he attended.\n",
      "\n",
      "Therefore, the answer to the question is that there is no known information about the university that the key figure in the American documentary film \"The 18th Man,\" released in 2015,\n",
      "tgt:   \n",
      "\n",
      "The question is asking about a person who was a key figure in the American documentary film released in 2015, directed by Malcolm Ingram. The film in question is \"The 18th Man,\" which was released in 2015 and directed by Malcolm Ingram. The film focuses on the story of a man who was drafted 18th overall in the 1984 NBA Draft, and it explores his journey and the challenges he faced as a player. The key figure in the film is the man himself, who was drafted 18th overall in the 1984 NBA Draft. The question is asking about the university that this man attended before being drafted.\n",
      "\n",
      "The man in question is not a well-known public figure, and there is no widely available information about his college education. However, based on the context of the film and the time period, it is possible that the man attended a university in the United States. Without more specific information, it is not possible to determine the exact university that he attended.\n",
      "\n",
      "Therefore, the answer to the question is that there is no known information about the university that the key figure in the American documentary film \"The 18th Man,\" released in 2015,\n",
      "score:  -0.42315590381622314\n",
      "response_loop\n"
     ]
    },
    {
     "name": "stderr",
     "output_type": "stream",
     "text": [
      "100%|██████████| 2/2 [00:00<00:00, 29.32it/s]\n"
     ]
    },
    {
     "name": "stdout",
     "output_type": "stream",
     "text": [
      "main_loop 2\n",
      "knowledge_loop\n",
      "process:0/1\n",
      "text:  Based on Question, please generate the factual knowledge. To do this, please consider these factors: Verifiability, Objectivity, and Reliability of Source. Note that this evaluation should be based on the best available medical knowledge.\n",
      "\n",
      "Question: Which university did one of the key figures in the American documentary film, released in 2015, directed by Malcolm Ingram, pay for, before being drafted 18th overall pick for the New Jersey Nets?\n",
      "Knowledge:  \n",
      "\n",
      "The question is asking about a person who was a key figure in the American documentary film released in 2015, directed by Malcolm Ingram. The film in question is \"The 18th Man,\" which was released in 2015 and directed by Malcolm Ingram. The film focuses on the story of a man who was drafted 18th overall in the 1984 NBA Draft, and it explores his journey and the challenges he faced as a player. The key figure in the film is the man himself, who was drafted 18th overall in the 1984 NBA Draft. The question is asking about the university that this man attended before being drafted.\n",
      "\n",
      "The man in question is not a well-known public figure, and there is no widely available information about his college education. However, based on the context of the film and the time period, it is possible that the man attended a university in the United States. Without more specific information, it is not possible to determine the exact university that he attended.\n",
      "\n",
      "Therefore, the answer to the question is that there is no known information about the university that the key figure in the American documentary film \"The 18th Man,\" released in 2015,\n",
      "tgt:   \n",
      "\n",
      "The question is asking about a person who was a key figure in the American documentary film released in 2015, directed by Malcolm Ingram. The film in question is \"The 18th Man,\" which was released in 2015 and directed by Malcolm Ingram. The film focuses on the story of a man who was drafted 18th overall in the 1984 NBA Draft, and it explores his journey and the challenges he faced as a player. The key figure in the film is the man himself, who was drafted 18th overall in the 1984 NBA Draft. The question is asking about the university that this man attended before being drafted.\n",
      "\n",
      "The man in question is not a well-known public figure, and there is no widely available information about his college education. However, based on the context of the film and the time period, it is possible that the man attended a university in the United States. Without more specific information, it is not possible to determine the exact university that he attended.\n",
      "\n",
      "Therefore, the answer to the question is that there is no known information about the university that the key figure in the American documentary film \"The 18th Man,\" released in 2015,\n",
      "score:  -0.42315590381622314\n",
      "response_loop\n"
     ]
    },
    {
     "name": "stderr",
     "output_type": "stream",
     "text": [
      "100%|██████████| 2/2 [00:00<00:00, 25.16it/s]\n",
      " 50%|█████     | 1/2 [05:52<05:52, 352.85s/it]"
     ]
    },
    {
     "name": "stdout",
     "output_type": "stream",
     "text": [
      "main_loop 0\n",
      "knowledge_loop\n",
      "process:0/1\n",
      "text:  Based on Question, please generate the factual knowledge. To do this, please consider these factors: Verifiability, Objectivity, and Reliability of Source. Note that this evaluation should be based on the best available medical knowledge.\n",
      "\n",
      "Question: Were both Léopold Eyharts and Ulrich Walter a General in the French Air Force? \n",
      "Knowledge:  \n",
      "\n",
      "As of 2023, the French Air Force has 13 general officers, including 10 full generals and 3 lieutenant generals. The rank of general in the French Air Force is equivalent to the rank of general in the French Army and the French Navy. The rank of general is a high-ranking position, typically held by experienced officers who have served in key leadership roles within the French Air Force. The rank of general is not a hereditary title and is not a title of nobility. It is a professional military rank, and it is awarded based on merit and experience. The rank of general is not a title of office, but rather a rank within the military hierarchy. The rank of general is not a title of office, but rather a rank within the military hierarchy. The rank of general is not a title of office, but rather a rank within the military hierarchy. The rank of general is not a title of office, but rather a rank within the military hierarchy. The rank of general is not a title of office, but rather a rank within the military hierarchy. The rank of general is not a title of office, but rather a rank within the military hierarchy. The rank of general is not a title of office, but rather a rank\n",
      "tgt:   \n",
      "\n",
      "As of 2023, the French Air Force has 13 general officers, including 10 full generals and 3 lieutenant generals. The rank of general in the French Air Force is equivalent to the rank of general in the French Army and the French Navy. The rank of general is a high-ranking position, typically held by experienced officers who have served in key leadership roles within the French Air Force. The rank of general is not a hereditary title and is not a title of nobility. It is a professional military rank, and it is awarded based on merit and experience. The rank of general is not a title of office, but rather a rank within the military hierarchy. The rank of general is not a title of office, but rather a rank within the military hierarchy. The rank of general is not a title of office, but rather a rank within the military hierarchy. The rank of general is not a title of office, but rather a rank within the military hierarchy. The rank of general is not a title of office, but rather a rank within the military hierarchy. The rank of general is not a title of office, but rather a rank within the military hierarchy. The rank of general is not a title of office, but rather a rank\n",
      "score:  -0.355621874332428\n",
      "response_loop\n"
     ]
    },
    {
     "name": "stderr",
     "output_type": "stream",
     "text": [
      "100%|██████████| 2/2 [00:00<00:00, 27.62it/s]\n"
     ]
    },
    {
     "name": "stdout",
     "output_type": "stream",
     "text": [
      "main_loop 1\n",
      "knowledge_loop\n",
      "process:0/1\n",
      "text:  Based on Question, please generate the factual knowledge. To do this, please consider these factors: Verifiability, Objectivity, and Reliability of Source. Note that this evaluation should be based on the best available medical knowledge.\n",
      "\n",
      "Question: Were both Léopold Eyharts and Ulrich Walter a General in the French Air Force? \n",
      "Knowledge:  \n",
      "\n",
      "As of 2023, the French Air Force has 13 general officers, including 10 full generals and 3 lieutenant generals. The rank of general in the French Air Force is equivalent to the rank of general in the French Army and the French Navy. The rank of general is a high-ranking position, typically held by experienced officers who have served in key leadership roles within the French Air Force. The rank of general is not a hereditary title and is not a title of nobility. It is a professional military rank, and it is awarded based on merit and experience. The rank of general is not a title of office, but rather a rank within the military hierarchy. The rank of general is not a title of office, but rather a rank within the military hierarchy. The rank of general is not a title of office, but rather a rank within the military hierarchy. The rank of general is not a title of office, but rather a rank within the military hierarchy. The rank of general is not a title of office, but rather a rank within the military hierarchy. The rank of general is not a title of office, but rather a rank within the military hierarchy. The rank of general is not a title of office, but rather a rank\n",
      "tgt:   \n",
      "\n",
      "As of 2023, the French Air Force has 13 general officers, including 10 full generals and 3 lieutenant generals. The rank of general in the French Air Force is equivalent to the rank of general in the French Army and the French Navy. The rank of general is a high-ranking position, typically held by experienced officers who have served in key leadership roles within the French Air Force. The rank of general is not a hereditary title and is not a title of nobility. It is a professional military rank, and it is awarded based on merit and experience. The rank of general is not a title of office, but rather a rank within the military hierarchy. The rank of general is not a title of office, but rather a rank within the military hierarchy. The rank of general is not a title of office, but rather a rank within the military hierarchy. The rank of general is not a title of office, but rather a rank within the military hierarchy. The rank of general is not a title of office, but rather a rank within the military hierarchy. The rank of general is not a title of office, but rather a rank within the military hierarchy. The rank of general is not a title of office, but rather a rank\n",
      "score:  -0.355621874332428\n",
      "response_loop\n"
     ]
    },
    {
     "name": "stderr",
     "output_type": "stream",
     "text": [
      "100%|██████████| 2/2 [00:00<00:00, 28.53it/s]\n"
     ]
    },
    {
     "name": "stdout",
     "output_type": "stream",
     "text": [
      "main_loop 2\n",
      "knowledge_loop\n",
      "process:0/1\n",
      "text:  Based on Question, please generate the factual knowledge. To do this, please consider these factors: Verifiability, Objectivity, and Reliability of Source. Note that this evaluation should be based on the best available medical knowledge.\n",
      "\n",
      "Question: Were both Léopold Eyharts and Ulrich Walter a General in the French Air Force? \n",
      "Knowledge:  \n",
      "\n",
      "As of 2023, the French Air Force has 13 general officers, including 10 full generals and 3 lieutenant generals. The rank of general in the French Air Force is equivalent to the rank of general in the French Army and the French Navy. The rank of general is a high-ranking position, typically held by experienced officers who have served in key leadership roles within the French Air Force. The rank of general is not a hereditary title and is not a title of nobility. It is a professional military rank, and it is awarded based on merit and experience. The rank of general is not a title of office, but rather a rank within the military hierarchy. The rank of general is not a title of office, but rather a rank within the military hierarchy. The rank of general is not a title of office, but rather a rank within the military hierarchy. The rank of general is not a title of office, but rather a rank within the military hierarchy. The rank of general is not a title of office, but rather a rank within the military hierarchy. The rank of general is not a title of office, but rather a rank within the military hierarchy. The rank of general is not a title of office, but rather a rank\n",
      "tgt:   \n",
      "\n",
      "As of 2023, the French Air Force has 13 general officers, including 10 full generals and 3 lieutenant generals. The rank of general in the French Air Force is equivalent to the rank of general in the French Army and the French Navy. The rank of general is a high-ranking position, typically held by experienced officers who have served in key leadership roles within the French Air Force. The rank of general is not a hereditary title and is not a title of nobility. It is a professional military rank, and it is awarded based on merit and experience. The rank of general is not a title of office, but rather a rank within the military hierarchy. The rank of general is not a title of office, but rather a rank within the military hierarchy. The rank of general is not a title of office, but rather a rank within the military hierarchy. The rank of general is not a title of office, but rather a rank within the military hierarchy. The rank of general is not a title of office, but rather a rank within the military hierarchy. The rank of general is not a title of office, but rather a rank within the military hierarchy. The rank of general is not a title of office, but rather a rank\n",
      "score:  -0.355621874332428\n",
      "response_loop\n"
     ]
    },
    {
     "name": "stderr",
     "output_type": "stream",
     "text": [
      "100%|██████████| 2/2 [00:00<00:00, 29.24it/s]\n",
      "100%|██████████| 2/2 [11:00<00:00, 330.09s/it]\n"
     ]
    }
   ],
   "source": [
    "num_samples = 2\n",
    "dataset = []\n",
    "for d in tqdm(ds.select(range(num_samples)), total=num_samples):\n",
    "    question = d[\"question\"]\n",
    "    reference = d[\"response\"]\n",
    "\n",
    "    _, final_response, _, _ = main_loop(args, d, model, tokenizer, knowledge_loop, response_loop, entailment_scorer, ctrleval_scorer)\n",
    "\n",
    "    dataset.append(\n",
    "        {\n",
    "            \"user_input\": question,\n",
    "            \"response\": final_response,\n",
    "            \"reference\": reference,\n",
    "        }\n",
    "    )"
   ]
  },
  {
   "cell_type": "code",
   "execution_count": 10,
   "id": "daab644a",
   "metadata": {},
   "outputs": [
    {
     "name": "stderr",
     "output_type": "stream",
     "text": [
      "WARNING: All log messages before absl::InitializeLog() is called are written to STDERR\n",
      "E0000 00:00:1761039654.507590  832122 alts_credentials.cc:93] ALTS creds ignored. Not running on GCP and untrusted ALTS is not enabled.\n",
      "/tmp/ipykernel_832122/2935404805.py:1: DeprecationWarning: LangchainLLMWrapper is deprecated and will be removed in a future version. Use the modern LLM providers instead: from ragas.llms.base import llm_factory; llm = llm_factory('gpt-4o-mini') or from ragas.llms.base import instructor_llm_factory; llm = instructor_llm_factory('openai', client=openai_client)\n",
      "  evaluator_llm = LangchainLLMWrapper(\n"
     ]
    }
   ],
   "source": [
    "evaluator_llm = LangchainLLMWrapper(\n",
    "    ChatGoogleGenerativeAI(\n",
    "        model=\"gemini-2.5-flash\",\n",
    "        temperature=0,\n",
    "        max_tokens=None,\n",
    "        timeout=None,\n",
    "        max_retries=2,\n",
    "    )\n",
    ")"
   ]
  },
  {
   "cell_type": "code",
   "execution_count": 11,
   "id": "4edc92d3",
   "metadata": {},
   "outputs": [
    {
     "data": {
      "application/vnd.jupyter.widget-view+json": {
       "model_id": "460f4d43af5048e4a4b7f8992e555e12",
       "version_major": 2,
       "version_minor": 0
      },
      "text/plain": [
       "Evaluating:   0%|          | 0/2 [00:00<?, ?it/s]"
      ]
     },
     "metadata": {},
     "output_type": "display_data"
    },
    {
     "name": "stderr",
     "output_type": "stream",
     "text": [
      "E0000 00:00:1761039655.301941  832122 alts_credentials.cc:93] ALTS creds ignored. Not running on GCP and untrusted ALTS is not enabled.\n"
     ]
    },
    {
     "name": "stdout",
     "output_type": "stream",
     "text": [
      "{'factual_correctness(mode=f1)': 0.0000}\n"
     ]
    }
   ],
   "source": [
    "evaluation_dataset = Dataset.from_list(dataset)\n",
    "\n",
    "ragas_result = evaluate(evaluation_dataset, metrics=[FactualCorrectness()], llm=evaluator_llm)\n",
    "print(ragas_result)"
   ]
  },
  {
   "cell_type": "code",
   "execution_count": 12,
   "id": "1093f20e",
   "metadata": {},
   "outputs": [
    {
     "data": {
      "text/html": [
       "<div>\n",
       "<style scoped>\n",
       "    .dataframe tbody tr th:only-of-type {\n",
       "        vertical-align: middle;\n",
       "    }\n",
       "\n",
       "    .dataframe tbody tr th {\n",
       "        vertical-align: top;\n",
       "    }\n",
       "\n",
       "    .dataframe thead th {\n",
       "        text-align: right;\n",
       "    }\n",
       "</style>\n",
       "<table border=\"1\" class=\"dataframe\">\n",
       "  <thead>\n",
       "    <tr style=\"text-align: right;\">\n",
       "      <th></th>\n",
       "      <th>user_input</th>\n",
       "      <th>response</th>\n",
       "      <th>reference</th>\n",
       "      <th>factual_correctness(mode=f1)</th>\n",
       "    </tr>\n",
       "  </thead>\n",
       "  <tbody>\n",
       "    <tr>\n",
       "      <th>0</th>\n",
       "      <td>Which university did one of the key figures in...</td>\n",
       "      <td>\\n\\nThe key figure in the American documentar...</td>\n",
       "      <td>One of the key figures in the American documen...</td>\n",
       "      <td>0.0</td>\n",
       "    </tr>\n",
       "    <tr>\n",
       "      <th>1</th>\n",
       "      <td>Were both Léopold Eyharts and Ulrich Walter a ...</td>\n",
       "      <td>\\n\\nStructure: \\n1. Begin with a clear answer...</td>\n",
       "      <td>No, only Léopold Eyharts was a General in the ...</td>\n",
       "      <td>0.0</td>\n",
       "    </tr>\n",
       "  </tbody>\n",
       "</table>\n",
       "</div>"
      ],
      "text/plain": [
       "                                          user_input  \\\n",
       "0  Which university did one of the key figures in...   \n",
       "1  Were both Léopold Eyharts and Ulrich Walter a ...   \n",
       "\n",
       "                                            response  \\\n",
       "0   \\n\\nThe key figure in the American documentar...   \n",
       "1   \\n\\nStructure: \\n1. Begin with a clear answer...   \n",
       "\n",
       "                                           reference  \\\n",
       "0  One of the key figures in the American documen...   \n",
       "1  No, only Léopold Eyharts was a General in the ...   \n",
       "\n",
       "   factual_correctness(mode=f1)  \n",
       "0                           0.0  \n",
       "1                           0.0  "
      ]
     },
     "execution_count": 12,
     "metadata": {},
     "output_type": "execute_result"
    }
   ],
   "source": [
    "ragas_result_df = ragas_result.to_pandas()\n",
    "ragas_result_df.head()"
   ]
  }
 ],
 "metadata": {
  "kernelspec": {
   "display_name": "AI6130",
   "language": "python",
   "name": "python3"
  },
  "language_info": {
   "codemirror_mode": {
    "name": "ipython",
    "version": 3
   },
   "file_extension": ".py",
   "mimetype": "text/x-python",
   "name": "python",
   "nbconvert_exporter": "python",
   "pygments_lexer": "ipython3",
   "version": "3.12.11"
  }
 },
 "nbformat": 4,
 "nbformat_minor": 5
}
